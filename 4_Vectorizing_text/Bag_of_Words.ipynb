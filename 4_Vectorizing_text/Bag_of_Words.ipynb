{
 "cells": [
  {
   "cell_type": "markdown",
   "metadata": {},
   "source": [
    "# $$ Bag\\ of\\ Words$$"
   ]
  },
  {
   "cell_type": "markdown",
   "metadata": {},
   "source": [
    "_____________"
   ]
  },
  {
   "cell_type": "markdown",
   "metadata": {},
   "source": [
    "### Introduction to Text Vectorization\n",
    "\n",
    "In the world of **Natural Language Processing (NLP)**, **text vectorization** refers to the process of converting text data into a numerical format that machine learning models can understand and work with. Since machine learning algorithms cannot work with raw text directly, we need to transform the text into a **numerical representation** (vectors) that captures the essence of the words, their importance, and their relationships in the data.\n",
    "\n",
    "Text vectorization is essential because **machine learning models** require input data in numerical form, and **text data** is inherently non-numeric. By converting the text into numbers, we allow algorithms to process, analyze, and learn patterns within the data.\n",
    "\n",
    "### Why Do We Use Text Vectorization?\n",
    "\n",
    "1. **Machine Learning Compatibility**: Most machine learning models only understand numerical data. Vectorization allows us to convert text into a numerical format that these models can interpret.\n",
    "   \n",
    "2. **Capturing Features of Text**: Through vectorization, we can capture various features of text, such as the frequency of words, the importance of words in a particular context, and the relationships between different words.\n",
    "   \n",
    "3. **Improving Model Performance**: Vectorization techniques like **TF-IDF** (Term Frequency-Inverse Document Frequency) can highlight the most relevant words, which helps the model focus on important features rather than irrelevant ones, thus improving its performance.\n",
    "\n",
    "### What Does Vectorizing Text Mean?\n",
    "\n",
    "Text vectorization involves transforming text into a **vector** (a list or array of numbers) that can be input into machine learning models. The vector representation encodes useful information about the text, such as the presence or frequency of words. The key idea is to represent the **semantics** of the text in a structured way that allows a machine to analyze it.\n",
    "\n",
    "### Common Methods of Text Vectorization:\n",
    "\n",
    "1. **The Bag of Words (BoW) Model**:\n",
    "   - **BoW** is one of the simplest methods for text vectorization.\n",
    "   - In this model, we count how many times each word appears in the document. However, BoW does not take into account the **order** of words or **context**.\n",
    "   - **Limitation**: It might fail to capture important relationships between words (like synonyms or word context) and can lead to sparse vectors if there are a lot of unique words.\n",
    "\n",
    "2. **TF-IDF (Term Frequency-Inverse Document Frequency)**:\n",
    "   - **TF-IDF** is a more advanced vectorization technique.\n",
    "   - It assigns **weights** to words based on their importance in a particular document. The key idea is to give higher weight to words that are frequent in a specific document but not too common across all documents.\n",
    "   - **Term Frequency (TF)** measures how often a word appears in a document.\n",
    "   - **Inverse Document Frequency (IDF)** measures how common or rare a word is across all documents.\n",
    "   - **Importance**: Words that appear often in a document but rarely in the corpus get higher weights, which helps emphasize their relevance.\n",
    "\n",
    "In summary, **text vectorization** is the bridge that allows machine learning algorithms to handle and understand text. Through methods like **Bag of Words** and **TF-IDF**, we can convert text into numerical vectors that maintain useful information for analysis and decision-making in machine learning tasks.\n"
   ]
  },
  {
   "cell_type": "markdown",
   "metadata": {},
   "source": [
    "_____________"
   ]
  },
  {
   "cell_type": "code",
   "execution_count": 1,
   "metadata": {},
   "outputs": [],
   "source": [
    "import pandas as pd\n",
    "from sklearn.feature_extraction.text import CountVectorizer"
   ]
  },
  {
   "cell_type": "code",
   "execution_count": 2,
   "metadata": {},
   "outputs": [],
   "source": [
    "data = [' Most shark attacks occur about 10 feet from the beach since that is where the people are',\n",
    "        'the efficiency with which he paired the socks in the drawer was quite admirable',\n",
    "        'carol drank the blood as if she were a vampire',\n",
    "        'giving directions that the mountains are to the west only works when you can see them',\n",
    "        'the sign said there was road work ahead so he decided to speed up',\n",
    "        'the gruff old man sat in the back of the bait shop grumbling to himself as he scooped out a handful of worms']"
   ]
  },
  {
   "cell_type": "code",
   "execution_count": 3,
   "metadata": {},
   "outputs": [],
   "source": [
    "countvec = CountVectorizer()"
   ]
  },
  {
   "cell_type": "code",
   "execution_count": 4,
   "metadata": {},
   "outputs": [],
   "source": [
    "countvec_fit = countvec.fit_transform(data)"
   ]
  },
  {
   "cell_type": "code",
   "execution_count": 5,
   "metadata": {},
   "outputs": [],
   "source": [
    "bag_of_words = pd.DataFrame(countvec_fit.toarray(), columns = countvec.get_feature_names_out())"
   ]
  },
  {
   "cell_type": "code",
   "execution_count": 6,
   "metadata": {},
   "outputs": [
    {
     "name": "stdout",
     "output_type": "stream",
     "text": [
      "   10  about  admirable  ahead  are  as  attacks  back  bait  beach  ...  \\\n",
      "0   1      1          0      0    1   0        1     0     0      1  ...   \n",
      "1   0      0          1      0    0   0        0     0     0      0  ...   \n",
      "2   0      0          0      0    0   1        0     0     0      0  ...   \n",
      "3   0      0          0      0    1   0        0     0     0      0  ...   \n",
      "4   0      0          0      1    0   0        0     0     0      0  ...   \n",
      "5   0      0          0      0    0   1        0     1     1      0  ...   \n",
      "\n",
      "   were  west  when  where  which  with  work  works  worms  you  \n",
      "0     0     0     0      1      0     0     0      0      0    0  \n",
      "1     0     0     0      0      1     1     0      0      0    0  \n",
      "2     1     0     0      0      0     0     0      0      0    0  \n",
      "3     0     1     1      0      0     0     0      1      0    1  \n",
      "4     0     0     0      0      0     0     1      0      0    0  \n",
      "5     0     0     0      0      0     0     0      0      1    0  \n",
      "\n",
      "[6 rows x 71 columns]\n"
     ]
    }
   ],
   "source": [
    "print(bag_of_words)"
   ]
  }
 ],
 "metadata": {
  "kernelspec": {
   "display_name": "Python 3 (ipykernel)",
   "language": "python",
   "name": "python3"
  },
  "language_info": {
   "codemirror_mode": {
    "name": "ipython",
    "version": 3
   },
   "file_extension": ".py",
   "mimetype": "text/x-python",
   "name": "python",
   "nbconvert_exporter": "python",
   "pygments_lexer": "ipython3",
   "version": "3.9.15"
  }
 },
 "nbformat": 4,
 "nbformat_minor": 4
}
