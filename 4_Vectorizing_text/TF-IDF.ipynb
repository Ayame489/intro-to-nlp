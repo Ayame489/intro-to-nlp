{
 "cells": [
  {
   "cell_type": "markdown",
   "metadata": {},
   "source": [
    "# $$ TF-IDF $$"
   ]
  },
  {
   "cell_type": "markdown",
   "metadata": {},
   "source": [
    "_____________"
   ]
  },
  {
   "cell_type": "markdown",
   "metadata": {},
   "source": [
    "### TF-IDF (Term Frequency-Inverse Document Frequency)\n",
    "\n",
    "**TF-IDF** is a popular method for text vectorization that evaluates how important a word is to a document in a collection of documents. It combines two components: **Term Frequency (TF)** and **Inverse Document Frequency (IDF)**.\n",
    "\n",
    "#### 1. **Term Frequency (TF)**\n",
    "\n",
    "The **Term Frequency** of a word in a document is simply a measure of how frequently that word appears in the document. The basic formula for **TF** is:\n",
    "\n",
    "$$\n",
    "TF = \\frac{\\text{Number of times word appears in a document}}{\\text{Total number of words in the document}}\n",
    "$$\n",
    "\n",
    "- **Why it matters**: A word that appears frequently in a document might be important for understanding that document. However, we need to weigh this frequency against the word's presence in other documents to ensure it’s truly significant.\n",
    "\n",
    "#### 2. **Inverse Document Frequency (IDF)**\n",
    "\n",
    "The **Inverse Document Frequency** is used to measure how important a word is in the entire corpus. It helps reduce the weight of words that appear in many documents, as they are likely common words with less meaning.\n",
    "\n",
    "The formula for **IDF** is:\n",
    "\n",
    "$$\n",
    "IDF = \\log \\left(\\frac{\\text{Total number of documents}}{\\text{Number of documents containing the word}}\\right)\n",
    "$$\n",
    "\n",
    "- **Why it matters**: Words that appear in many documents (e.g., \"the\", \"is\", \"and\") are considered less meaningful because they are not distinguishing features of any particular document. **IDF** helps emphasize rare and unique words that carry more information.\n",
    "\n",
    "#### 3. **TF-IDF Calculation**\n",
    "\n",
    "The final **TF-IDF** score is calculated by multiplying **TF** and **IDF**:\n",
    "\n",
    "$$\n",
    "\\text{TF-IDF} = \\text{TF} \\times \\text{IDF}\n",
    "$$\n",
    "\n",
    "This score reflects both how often a word appears in a specific document and how rare or unique it is across the entire corpus. Words that are frequent in a document but rare in others will have a high **TF-IDF** score, meaning they are important to that document.\n",
    "\n",
    "#### Why Use TF-IDF?\n",
    "\n",
    "- **Relevance**: TF-IDF helps identify words that are specific and important to a document, reducing the influence of common words that don't add much value in distinguishing between documents.\n",
    "  \n",
    "- **Improved Accuracy**: By considering both **TF** and **IDF**, the method provides a more accurate representation of the significance of words in a document, which can improve the performance of machine learning models.\n",
    "\n",
    "In conclusion, **TF-IDF** is a crucial technique in text analysis and NLP, allowing for more meaningful vector representations by balancing word frequency and document importance.\n"
   ]
  },
  {
   "cell_type": "markdown",
   "metadata": {},
   "source": [
    "_______________________"
   ]
  },
  {
   "cell_type": "code",
   "execution_count": 1,
   "metadata": {},
   "outputs": [],
   "source": [
    "import pandas as pd\n",
    "from sklearn.feature_extraction.text import TfidfVectorizer"
   ]
  },
  {
   "cell_type": "code",
   "execution_count": 2,
   "metadata": {},
   "outputs": [],
   "source": [
    "data = [' Most shark attacks occur about 10 feet from the beach since that is where the people are',\n",
    "        'the efficiency with which he paired the socks in the drawer was quite admirable',\n",
    "        'carol drank the blood as if she were a vampire',\n",
    "        'giving directions that the mountains are to the west only works when you can see them',\n",
    "        'the sign said there was road work ahead so he decided to speed up',\n",
    "        'the gruff old man sat in the back of the bait shop grumbling to himself as he scooped out a handful of worms']"
   ]
  },
  {
   "cell_type": "code",
   "execution_count": 3,
   "metadata": {},
   "outputs": [],
   "source": [
    "tfidfvec = TfidfVectorizer()"
   ]
  },
  {
   "cell_type": "code",
   "execution_count": 4,
   "metadata": {},
   "outputs": [],
   "source": [
    "tfidfvec_fit = tfidfvec.fit_transform(data)"
   ]
  },
  {
   "cell_type": "code",
   "execution_count": 5,
   "metadata": {},
   "outputs": [],
   "source": [
    "tfidf_bag = pd.DataFrame(tfidfvec_fit.toarray(), columns = tfidfvec.get_feature_names_out())"
   ]
  },
  {
   "cell_type": "code",
   "execution_count": 6,
   "metadata": {},
   "outputs": [
    {
     "name": "stdout",
     "output_type": "stream",
     "text": [
      "         10     about  admirable     ahead       are        as   attacks  \\\n",
      "0  0.257061  0.257061   0.000000  0.000000  0.210794  0.000000  0.257061   \n",
      "1  0.000000  0.000000   0.293641  0.000000  0.000000  0.000000  0.000000   \n",
      "2  0.000000  0.000000   0.000000  0.000000  0.000000  0.292313  0.000000   \n",
      "3  0.000000  0.000000   0.000000  0.000000  0.222257  0.000000  0.000000   \n",
      "4  0.000000  0.000000   0.000000  0.290766  0.000000  0.000000  0.000000   \n",
      "5  0.000000  0.000000   0.000000  0.000000  0.000000  0.178615  0.000000   \n",
      "\n",
      "      back     bait     beach  ...      were     west     when     where  \\\n",
      "0  0.00000  0.00000  0.257061  ...  0.000000  0.00000  0.00000  0.257061   \n",
      "1  0.00000  0.00000  0.000000  ...  0.000000  0.00000  0.00000  0.000000   \n",
      "2  0.00000  0.00000  0.000000  ...  0.356474  0.00000  0.00000  0.000000   \n",
      "3  0.00000  0.00000  0.000000  ...  0.000000  0.27104  0.27104  0.000000   \n",
      "4  0.00000  0.00000  0.000000  ...  0.000000  0.00000  0.00000  0.000000   \n",
      "5  0.21782  0.21782  0.000000  ...  0.000000  0.00000  0.00000  0.000000   \n",
      "\n",
      "      which      with      work    works    worms      you  \n",
      "0  0.000000  0.000000  0.000000  0.00000  0.00000  0.00000  \n",
      "1  0.293641  0.293641  0.000000  0.00000  0.00000  0.00000  \n",
      "2  0.000000  0.000000  0.000000  0.00000  0.00000  0.00000  \n",
      "3  0.000000  0.000000  0.000000  0.27104  0.00000  0.27104  \n",
      "4  0.000000  0.000000  0.290766  0.00000  0.00000  0.00000  \n",
      "5  0.000000  0.000000  0.000000  0.00000  0.21782  0.00000  \n",
      "\n",
      "[6 rows x 71 columns]\n"
     ]
    }
   ],
   "source": [
    "print(tfidf_bag)"
   ]
  }
 ],
 "metadata": {
  "kernelspec": {
   "display_name": "Python 3 (ipykernel)",
   "language": "python",
   "name": "python3"
  },
  "language_info": {
   "codemirror_mode": {
    "name": "ipython",
    "version": 3
   },
   "file_extension": ".py",
   "mimetype": "text/x-python",
   "name": "python",
   "nbconvert_exporter": "python",
   "pygments_lexer": "ipython3",
   "version": "3.9.15"
  }
 },
 "nbformat": 4,
 "nbformat_minor": 4
}
