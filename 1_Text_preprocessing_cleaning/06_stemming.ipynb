{
 "cells": [
  {
   "cell_type": "markdown",
   "id": "67c87491-a1eb-445a-b3b4-5fbe6ea8f487",
   "metadata": {},
   "source": [
    "# $$ Step\\ 6 : Stemming $$"
   ]
  },
  {
   "cell_type": "markdown",
   "id": "456bfde3-e1b7-485d-9a18-a46c5e0bccc1",
   "metadata": {},
   "source": [
    "_______________"
   ]
  },
  {
   "cell_type": "markdown",
   "id": "ed146b40-e8c6-4cfb-bc0c-390ca88d2cd7",
   "metadata": {},
   "source": [
    "# **Text Preprocessing: Stemming in NLP**\n",
    "\n",
    "## **1️⃣ What is Stemming?**\n",
    "Stemming is a technique in **Natural Language Processing (NLP)** where words are reduced to their root form by removing prefixes and suffixes.  \n",
    "For example:\n",
    "- **\"running\" → \"run\"**\n",
    "- **\"connected\" → \"connect\"**\n",
    "- **\"amazingly\" → \"amaz\"**\n",
    "\n",
    "Stemming is useful when we want to group different word forms together to reduce vocabulary size and improve text processing efficiency.\n",
    "\n",
    "---\n",
    "\n",
    "## **2️⃣ Why Use Stemming?**\n",
    "✔ **Reduces complexity:** Minimizes the number of unique words in a dataset.  \n",
    "✔ **Improves text analysis:** Helps in sentiment analysis, search engines, and chatbot responses.  \n",
    "✔ **Saves memory:** Less unique words mean less storage and computation.  \n",
    "\n",
    "⚠ **But beware!** Stemming can sometimes produce incorrect base forms that are not actual words.  \n",
    "\n",
    "---\n",
    "\n",
    "## **3️⃣ Implementing Stemming in Python**\n",
    "We will use the **PorterStemmer** from the **NLTK** library to apply stemming to sample text."
   ]
  },
  {
   "cell_type": "markdown",
   "id": "f3142c4a-3e7b-4c18-a643-5186d88a0842",
   "metadata": {},
   "source": [
    "__________"
   ]
  },
  {
   "cell_type": "markdown",
   "id": "b88bbedc-4ce2-4dd8-abaa-b74aeeec2120",
   "metadata": {},
   "source": [
    "## 4️⃣ **When to Use Stemming?**\n",
    "🔹 When reducing vocabulary size is more important than precise meanings. \\\n",
    "🔹 In search engines (e.g., \"run\", \"running\", and \"ran\" should be treated as the same).\\\n",
    "🔹 For quick text preprocessing in machine learning models."
   ]
  },
  {
   "cell_type": "markdown",
   "id": "097c9668-4cae-497a-a35d-a3dbc0693359",
   "metadata": {},
   "source": [
    "________________"
   ]
  },
  {
   "cell_type": "markdown",
   "id": "4a53e5a2-cd42-4952-a0c3-bb66423f47be",
   "metadata": {},
   "source": [
    "### Exemple : "
   ]
  },
  {
   "cell_type": "code",
   "execution_count": 4,
   "id": "34e0a8ff-cc57-4ceb-98fb-fc107825f2f2",
   "metadata": {},
   "outputs": [],
   "source": [
    "from nltk.stem import PorterStemmer"
   ]
  },
  {
   "cell_type": "code",
   "execution_count": 5,
   "id": "e68adf8c-cb17-4d0d-83ad-c877ddc4ec29",
   "metadata": {},
   "outputs": [],
   "source": [
    "# Create a stemmer \n",
    "stemmer = PorterStemmer()"
   ]
  },
  {
   "cell_type": "code",
   "execution_count": 7,
   "id": "98a4f590-bf77-4770-ab55-872676a5b5f2",
   "metadata": {},
   "outputs": [
    {
     "name": "stdout",
     "output_type": "stream",
     "text": [
      "connecting  :  connect\n",
      "connected  :  connect\n",
      "connectivity  :  connect\n",
      "connect  :  connect\n",
      "connects  :  connect\n"
     ]
    }
   ],
   "source": [
    "tokens = ['connecting', 'connected', 'connectivity', 'connect', 'connects']\n",
    "\n",
    "for token in tokens :\n",
    "    print( token , \" : \" , stemmer.stem(token))"
   ]
  },
  {
   "cell_type": "markdown",
   "id": "a9d82a6c-0987-44ca-823a-f098ae638d75",
   "metadata": {},
   "source": [
    "### Exemple : "
   ]
  },
  {
   "cell_type": "code",
   "execution_count": 8,
   "id": "ca841063-7354-4f2f-9374-98253d5fcec2",
   "metadata": {},
   "outputs": [
    {
     "name": "stdout",
     "output_type": "stream",
     "text": [
      "learned  :  learn\n",
      "learning  :  learn\n",
      "learn  :  learn\n",
      "learns  :  learn\n",
      "learner  :  learner\n",
      "learners  :  learner\n"
     ]
    }
   ],
   "source": [
    "tokens = ['learned', 'learning', 'learn', 'learns', 'learner', 'learners']\n",
    "\n",
    "for token in tokens : \n",
    "    print( token , \" : \" , stemmer.stem(token))"
   ]
  },
  {
   "cell_type": "markdown",
   "id": "2cbebb6b-8d5b-4e5f-80b4-622c0cfcc11f",
   "metadata": {},
   "source": [
    "### Exemple : Stemming in Sentiment Analysis"
   ]
  },
  {
   "cell_type": "code",
   "execution_count": 9,
   "id": "397d4d22-a2b4-43fc-834f-3f21607f2cea",
   "metadata": {},
   "outputs": [],
   "source": [
    "# Sample product reviews\n",
    "reviews = [\n",
    "    \"The product is amazing and works perfectly!\",\n",
    "    \"I really loved the experience of using this.\",\n",
    "    \"This is the worst purchase I have ever made.\",\n",
    "    \"The shipping was delayed, but the product is great.\"\n",
    "]\n"
   ]
  },
  {
   "cell_type": "code",
   "execution_count": 12,
   "id": "e0f8fd10-57de-435e-8589-91d1f16eac5a",
   "metadata": {},
   "outputs": [],
   "source": [
    "# Tokenize and stem words in reviews\n",
    "import nltk\n",
    "from nltk.tokenize import word_tokenize\n",
    "from nltk.stem import PorterStemmer\n",
    "\n",
    "# Create a stemmer \n",
    "ps = PorterStemmer()\n",
    "\n",
    "stemmed_reviews = []\n",
    "for review in reviews:\n",
    "    words = word_tokenize(review)  # Tokenize words\n",
    "    stemmed_words = [ps.stem(word) for word in words]  # Apply stemming\n",
    "    stemmed_reviews.append(\" \".join(stemmed_words))  # Join words back into sentences"
   ]
  },
  {
   "cell_type": "code",
   "execution_count": 13,
   "id": "27506b94-ab85-4a2d-a107-cc8e168f083c",
   "metadata": {},
   "outputs": [
    {
     "name": "stdout",
     "output_type": "stream",
     "text": [
      "Original: The product is amazing and works perfectly!\n",
      "Stemmed: the product is amaz and work perfectli !\n",
      "\n",
      "Original: I really loved the experience of using this.\n",
      "Stemmed: i realli love the experi of use thi .\n",
      "\n",
      "Original: This is the worst purchase I have ever made.\n",
      "Stemmed: thi is the worst purchas i have ever made .\n",
      "\n",
      "Original: The shipping was delayed, but the product is great.\n",
      "Stemmed: the ship wa delay , but the product is great .\n",
      "\n"
     ]
    }
   ],
   "source": [
    "# Print results\n",
    "for original, stemmed in zip(reviews, stemmed_reviews):\n",
    "    print(f\"Original: {original}\\nStemmed: {stemmed}\\n\")"
   ]
  },
  {
   "cell_type": "markdown",
   "id": "3ae99ddc-d988-4b5f-be57-10161d99c2e8",
   "metadata": {},
   "source": [
    "\n",
    "#### 📌 **Observation:**\n",
    "\n",
    "\"amazing\" → \"amaz\" \n",
    "\n",
    "\"perfectly\" → \"perfectli\" \n",
    "\n",
    "\"loved\" → \"love\" \n",
    "\n",
    "\"experience\" → \"experi\" \n",
    "\n",
    "Stemming can sometimes produce incorrect words (e.g., \"amaz\" instead of \"amazing\"), but it still helps standardize text for machine learning models.\n",
    "\n",
    "\n",
    "    "
   ]
  },
  {
   "cell_type": "code",
   "execution_count": null,
   "id": "38fe0032-8e66-4039-93ad-4df8a1fe3372",
   "metadata": {},
   "outputs": [],
   "source": []
  }
 ],
 "metadata": {
  "kernelspec": {
   "display_name": "Python 3 (ipykernel)",
   "language": "python",
   "name": "python3"
  },
  "language_info": {
   "codemirror_mode": {
    "name": "ipython",
    "version": 3
   },
   "file_extension": ".py",
   "mimetype": "text/x-python",
   "name": "python",
   "nbconvert_exporter": "python",
   "pygments_lexer": "ipython3",
   "version": "3.9.15"
  }
 },
 "nbformat": 4,
 "nbformat_minor": 5
}
