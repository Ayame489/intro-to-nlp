{
 "cells": [
  {
   "cell_type": "markdown",
   "id": "841f032c-2d50-4759-849f-25de0ecb012a",
   "metadata": {},
   "source": [
    "# $$ Step\\ 4\\ : Regular\\ expressions\\ $$"
   ]
  },
  {
   "cell_type": "markdown",
   "id": "1f760382-8e6e-46fc-be91-b5fa6d0cd00b",
   "metadata": {},
   "source": [
    "_____________"
   ]
  },
  {
   "cell_type": "markdown",
   "id": "9f912e1b-d5d1-4362-b5a5-f2bdf5c63e33",
   "metadata": {},
   "source": [
    "**Regular Expressions (regex)** are a powerful tool used for searching and manipulating strings that match a specified pattern. They allow you to define a pattern that can match a wide range of strings, making them incredibly useful for filtering and processing text."
   ]
  },
  {
   "cell_type": "markdown",
   "id": "e887bae9-42b2-41e2-ba73-cbe86271a65d",
   "metadata": {},
   "source": [
    "### Why Use Regular Expressions?\n",
    "\n",
    "Regular expressions are particularly useful when you want to search for patterns in text rather than specific words or phrases. They are commonly used for:\n",
    "- **Text validation** (e.g., validating email addresses or phone numbers).\n",
    "- **String searching** (finding certain patterns in large amounts of text).\n",
    "- **String manipulation** (replacing, splitting, or extracting parts of text)."
   ]
  },
  {
   "cell_type": "markdown",
   "id": "c38356c6-85ff-4f9f-84f7-aee6d3e7e192",
   "metadata": {},
   "source": [
    "### Regex Syntax\n",
    "\n",
    "The syntax of regular expressions can vary depending on the specific task, but here are a few commonly used elements:\n",
    "- **`.`**: Matches any single character except a newline.\n",
    "- **`^`**: Matches the start of the string.\n",
    "- **`$`**: Matches the end of the string.\n",
    "- **`[]`**: Matches any one character inside the brackets.\n",
    "- **`*`**: Matches zero or more occurrences of the preceding character.\n",
    "- **`+`**: Matches one or more occurrences of the preceding character.\n",
    "- **`?`**: Matches zero or one occurrence of the preceding character.\n",
    "- **`|`**: Logical OR, matches the pattern before or after the `|`."
   ]
  },
  {
   "cell_type": "markdown",
   "id": "5d9472d2-eb0e-4a02-a798-6927918f518d",
   "metadata": {},
   "source": [
    "___________________"
   ]
  },
  {
   "cell_type": "code",
   "execution_count": 2,
   "id": "d2458afc-8d76-4687-a622-a24a9348508e",
   "metadata": {},
   "outputs": [],
   "source": [
    "import re "
   ]
  },
  {
   "cell_type": "markdown",
   "id": "4e9e70b2-1002-4ff0-9ea2-487da464f740",
   "metadata": {},
   "source": [
    "## Raw Strings :"
   ]
  },
  {
   "cell_type": "markdown",
   "id": "4bc1d11f-c03e-42e7-8a33-c2be134fdfde",
   "metadata": {},
   "source": [
    "In Python, certain characters have special meanings. For instance, `\\n` represents a new line. However, there are times when we want the `\\n` in our strings to be treated as a literal backslash followed by the letter 'n', instead of being interpreted as a new line.\n",
    "\n",
    "To achieve this, we can prefix the string with the letter `'r'`, which tells Python to treat the string as a **raw string**."
   ]
  },
  {
   "cell_type": "code",
   "execution_count": 3,
   "id": "0d327e5c-1c15-412e-8539-c72cae747626",
   "metadata": {},
   "outputs": [
    {
     "name": "stdout",
     "output_type": "stream",
     "text": [
      "C:\\desktop\\download\n",
      "otes\n"
     ]
    }
   ],
   "source": [
    "# print text without using raw string indicator\n",
    "my_folder = \"C:\\desktop\\download\\notes\"\n",
    "print(my_folder)"
   ]
  },
  {
   "cell_type": "code",
   "execution_count": 5,
   "id": "e4123d70-cb12-49a5-9297-b9b3d2c24d33",
   "metadata": {},
   "outputs": [
    {
     "name": "stdout",
     "output_type": "stream",
     "text": [
      "C:\\desktop\\download\\notes\n"
     ]
    }
   ],
   "source": [
    "# include raw string indicator\n",
    "my_folder = r\"C:\\desktop\\download\\notes\"\n",
    "print(my_folder)"
   ]
  },
  {
   "cell_type": "markdown",
   "id": "2b4eb2f8-8c4b-4f3e-a58f-65556464680f",
   "metadata": {},
   "source": [
    "## re.search :"
   ]
  },
  {
   "cell_type": "markdown",
   "id": "a86f8fff-7026-4cd1-8137-0696d765534a",
   "metadata": {},
   "source": [
    "The `re.search` function is used to check if a specific pattern exists within a string. It follows the syntax `re.search(\"pattern\", \"string\")`. If the pattern is found, it returns the match; otherwise, it returns `None` if the pattern is not present in the string."
   ]
  },
  {
   "cell_type": "code",
   "execution_count": 6,
   "id": "8498a4ac-3a98-43fb-8f5a-8b1aa28af0f5",
   "metadata": {},
   "outputs": [
    {
     "name": "stdout",
     "output_type": "stream",
     "text": [
      "<re.Match object; span=(29, 33), match='food'>\n"
     ]
    }
   ],
   "source": [
    "result_search = re.search(\"food\", r\"That restaurant has the best food\")\n",
    "print(result_search)"
   ]
  },
  {
   "cell_type": "code",
   "execution_count": 7,
   "id": "e2ed2944-9e59-4446-8b90-54c434c9b1d4",
   "metadata": {},
   "outputs": [
    {
     "name": "stdout",
     "output_type": "stream",
     "text": [
      "food\n"
     ]
    }
   ],
   "source": [
    "print(result_search.group()) # returns just the matching pattern"
   ]
  },
  {
   "cell_type": "code",
   "execution_count": 9,
   "id": "c0023588-223d-421f-8131-8a9c5bd66b7f",
   "metadata": {},
   "outputs": [
    {
     "name": "stdout",
     "output_type": "stream",
     "text": [
      "None\n"
     ]
    }
   ],
   "source": [
    "# Sample review text\n",
    "review = \"I really enjoyed the course on Python programming. The concepts were well-explained, and the exercises were great!\"\n",
    "\n",
    "# Regex pattern to find the product name \"JavaScript course\"\n",
    "pattern = r\"\\bJavaScript course\\b\"  # Pattern to search for the product name \"JavaScript course\"\n",
    "\n",
    "# Search for the pattern in the review\n",
    "match = re.search(pattern, review)\n",
    "\n",
    "print(match)"
   ]
  },
  {
   "cell_type": "markdown",
   "id": "b820639e-b972-428d-86be-c7f9fd2fb1e0",
   "metadata": {},
   "source": [
    "## re.sub :"
   ]
  },
  {
   "cell_type": "markdown",
   "id": "524f9230-9937-4616-9c1b-db0cc40a8e32",
   "metadata": {},
   "source": [
    "The re.sub function allows us to find a specific pattern in a string and replace it with another string. \\\\\n",
    "\n",
    "It follows the syntax:\n",
    "`re.sub(\"pattern to find\", \"replacement text\", \"string\")`\n"
   ]
  },
  {
   "cell_type": "code",
   "execution_count": 10,
   "id": "38424b55-5729-4094-8f30-5a61c9125983",
   "metadata": {},
   "outputs": [
    {
     "name": "stdout",
     "output_type": "stream",
     "text": [
      "The waitress Taylor was really rude to me \n"
     ]
    }
   ],
   "source": [
    "string = r\"The waitress Sarah was really rude to me \"\n",
    "\n",
    "new_string = re.sub(r\"Sarah\", r\"Taylor\", string) # replace the incorrect spelling of sarah\n",
    "\n",
    "print(new_string)"
   ]
  },
  {
   "cell_type": "code",
   "execution_count": 11,
   "id": "f7347fc6-9860-4bd2-aac0-b43fe9093eb4",
   "metadata": {},
   "outputs": [
    {
     "name": "stdout",
     "output_type": "stream",
     "text": [
      "Overall, I really loved the product. The quality of the items was excellent. The packaging was acceptable, and it made the unboxing experience frustrating. However, the delivery was quick, and the customer service was helpful. I'm satisfied with the purchase, but the packaging could be improved.\n"
     ]
    }
   ],
   "source": [
    "\n",
    "review = r\"Overall, I really loved the product. The quality of the items was excellent. The packaging was poor, and it made the unboxing experience frustrating. However, the delivery was fast, and the customer service was helpful. I'm satisfied with the purchase, but the packaging could be improved.\"\n",
    "\n",
    "# Replace 'poor' with 'acceptable' and 'fast' with 'quick'\n",
    "new_review = re.sub(r\"poor\", r\"acceptable\", review)\n",
    "new_review = re.sub(r\"fast\", r\"quick\", new_review)\n",
    "\n",
    "# Print the updated review\n",
    "print(new_review)\n"
   ]
  },
  {
   "cell_type": "markdown",
   "id": "d9be8cec-ea8e-4006-9b46-cd5b5d8ce1ec",
   "metadata": {},
   "source": [
    "## Regex Syntax :"
   ]
  },
  {
   "cell_type": "markdown",
   "id": "d09b3ce8-b57b-40c2-929d-dc9f38b08e98",
   "metadata": {},
   "source": [
    "The real power of regex is being able to leverage the syntax to create more complex searches/replacements."
   ]
  },
  {
   "cell_type": "code",
   "execution_count": 12,
   "id": "1e73e7d7-18f1-4575-adc8-c2051a01b2e6",
   "metadata": {},
   "outputs": [],
   "source": [
    "# Sample customer reviews\n",
    "customer_reviews = [\n",
    "    'john was extremely helpful and kind during my visit',\n",
    "    'i had a great experience with anna, she helped me find exactly what i needed!',\n",
    "    'the staff was really rude, and i would not recommend it to anyone',\n",
    "    'michael helped me understand the products better, great service',\n",
    "    'julia was very attentive, she guided me through every step',\n",
    "    'david was able to find everything i was looking for, excellent service'\n",
    "]"
   ]
  },
  {
   "cell_type": "markdown",
   "id": "c1a2d933-0395-4cc6-8719-19c0dc9ca430",
   "metadata": {},
   "source": [
    "#### Find reviews containing names that start with 'j' (e.g., John, Julia)"
   ]
  },
  {
   "cell_type": "code",
   "execution_count": 13,
   "id": "5f81e872-4d7b-4410-839c-3487e36f71b3",
   "metadata": {},
   "outputs": [
    {
     "name": "stdout",
     "output_type": "stream",
     "text": [
      "Reviews with names starting with 'J':\n",
      "['john was extremely helpful and kind during my visit', 'julia was very attentive, she guided me through every step']\n"
     ]
    }
   ],
   "source": [
    "j_reviews = []\n",
    "pattern_to_find = r\"\\b[jJ]\\w+\"  # \\b for word boundary, [jJ] for any word starting with 'j'\n",
    "for string in customer_reviews:\n",
    "    if re.search(pattern_to_find, string):\n",
    "        j_reviews.append(string)\n",
    "\n",
    "print(\"Reviews with names starting with 'J':\")\n",
    "print(j_reviews)"
   ]
  },
  {
   "cell_type": "markdown",
   "id": "8bd0b8ea-7704-4de3-ba78-3ff4dd517809",
   "metadata": {},
   "source": [
    "#### Find reviews that mention the word 'service' :"
   ]
  },
  {
   "cell_type": "code",
   "execution_count": 14,
   "id": "c3efd498-cb13-41ec-845e-e5e1a9844938",
   "metadata": {},
   "outputs": [
    {
     "name": "stdout",
     "output_type": "stream",
     "text": [
      "\n",
      "Reviews mentioning 'service':\n",
      "['michael helped me understand the products better, great service', 'david was able to find everything i was looking for, excellent service']\n"
     ]
    }
   ],
   "source": [
    "service_reviews = []\n",
    "pattern_to_find = r\"service\"  # Searching for the word 'service' in reviews\n",
    "for string in customer_reviews:\n",
    "    if re.search(pattern_to_find, string):\n",
    "        service_reviews.append(string)\n",
    "\n",
    "print(\"\\nReviews mentioning 'service':\")\n",
    "print(service_reviews)"
   ]
  },
  {
   "cell_type": "markdown",
   "id": "6a81acc4-55ef-4d2b-abfd-6ec53a9ebe0e",
   "metadata": {},
   "source": [
    "#### Find reviews that contain an exclamation mark :"
   ]
  },
  {
   "cell_type": "code",
   "execution_count": 15,
   "id": "a16b2817-5e0d-4748-8ac2-d87b48630f35",
   "metadata": {},
   "outputs": [
    {
     "name": "stdout",
     "output_type": "stream",
     "text": [
      "\n",
      "Reviews containing an exclamation mark:\n",
      "['i had a great experience with anna, she helped me find exactly what i needed!']\n"
     ]
    }
   ],
   "source": [
    "exclamation_reviews = []\n",
    "pattern_to_find = r\"!\"  # Searching for exclamation marks in reviews\n",
    "for string in customer_reviews:\n",
    "    if re.search(pattern_to_find, string):\n",
    "        exclamation_reviews.append(string)\n",
    "\n",
    "print(\"\\nReviews containing an exclamation mark:\")\n",
    "print(exclamation_reviews)"
   ]
  },
  {
   "cell_type": "markdown",
   "id": "d0d5d86f-20ee-438e-b8a8-a3d39907a3c5",
   "metadata": {},
   "source": [
    "#### Replace all occurrences of the word 'help' with 'assist' in the reviews"
   ]
  },
  {
   "cell_type": "code",
   "execution_count": 16,
   "id": "7e1293be-7fc9-47b4-b1ee-1398aafaa88e",
   "metadata": {},
   "outputs": [
    {
     "name": "stdout",
     "output_type": "stream",
     "text": [
      "\n",
      "Reviews with 'help' replaced by 'assist':\n",
      "['john was extremely helpful and kind during my visit', 'i had a great experience with anna, she helped me find exactly what i needed!', 'the staff was really rude, and i would not recommend it to anyone', 'michael helped me understand the products better, great service', 'julia was very attentive, she guided me through every step', 'david was able to find everything i was looking for, excellent service']\n"
     ]
    }
   ],
   "source": [
    "assist_reviews = []\n",
    "pattern_to_find = r\"\\bhelp\\b\"  # The word boundary ensures we only match 'help' as a full word\n",
    "for string in customer_reviews:\n",
    "    new_string = re.sub(pattern_to_find, 'assist', string)\n",
    "    assist_reviews.append(new_string)\n",
    "\n",
    "print(\"\\nReviews with 'help' replaced by 'assist':\")\n",
    "print(assist_reviews)"
   ]
  },
  {
   "cell_type": "markdown",
   "id": "e86ae71f-7e38-4f52-b430-9104c18daf2d",
   "metadata": {},
   "source": [
    "#### Remove any words shorter than 4 characters (e.g., 'and', 'the', 'i')"
   ]
  },
  {
   "cell_type": "code",
   "execution_count": 17,
   "id": "6557d1f9-d3c5-4e48-be96-e7ba02d5f898",
   "metadata": {},
   "outputs": [
    {
     "name": "stdout",
     "output_type": "stream",
     "text": [
      "\n",
      "Reviews with words shorter than 4 characters removed:\n",
      "['john  extremely helpful  kind during  visit', 'great experience with anna,  helped  find exactly what  needed!', 'staff  really rude,   would  recommend   anyone', 'michael helped  understand  products better, great service', 'julia  very attentive,  guided  through every step', 'david  able  find everything   looking , excellent service']\n"
     ]
    }
   ],
   "source": [
    "filtered_reviews = []\n",
    "pattern_to_find = r\"\\b\\w{1,3}\\b\"  # \\b for word boundaries, \\w matches any word, {1,3} for words 1 to 3 characters\n",
    "for string in customer_reviews:\n",
    "    no_short_words = re.sub(pattern_to_find, \"\", string)  # Remove words shorter than 4 characters\n",
    "    filtered_reviews.append(no_short_words.strip())\n",
    "\n",
    "print(\"\\nReviews with words shorter than 4 characters removed:\")\n",
    "print(filtered_reviews)"
   ]
  },
  {
   "cell_type": "code",
   "execution_count": null,
   "id": "c588f275-ced2-41cb-af6e-4246803f266b",
   "metadata": {},
   "outputs": [],
   "source": []
  }
 ],
 "metadata": {
  "kernelspec": {
   "display_name": "Python 3 (ipykernel)",
   "language": "python",
   "name": "python3"
  },
  "language_info": {
   "codemirror_mode": {
    "name": "ipython",
    "version": 3
   },
   "file_extension": ".py",
   "mimetype": "text/x-python",
   "name": "python",
   "nbconvert_exporter": "python",
   "pygments_lexer": "ipython3",
   "version": "3.9.15"
  }
 },
 "nbformat": 4,
 "nbformat_minor": 5
}
