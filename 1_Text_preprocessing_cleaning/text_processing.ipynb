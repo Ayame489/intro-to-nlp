{
 "cells": [
  {
   "cell_type": "markdown",
   "id": "0d510e1f-927d-42e1-83fc-da4de02ef256",
   "metadata": {
    "jp-MarkdownHeadingCollapsed": true
   },
   "source": [
    "# 1) Lowercase : "
   ]
  },
  {
   "cell_type": "code",
   "execution_count": 1,
   "id": "2da17863-1a84-4fd3-8b90-d87aff356eba",
   "metadata": {},
   "outputs": [],
   "source": [
    "sentence = \"Her cat's name is Luna \""
   ]
  },
  {
   "cell_type": "code",
   "execution_count": 3,
   "id": "15f3f605-a07e-4b41-8502-94afcf3745a1",
   "metadata": {},
   "outputs": [],
   "source": [
    "lower_sentence = sentence.lower()"
   ]
  },
  {
   "cell_type": "code",
   "execution_count": 4,
   "id": "10c81da4-e4d6-443a-af3a-0184ca0de5cd",
   "metadata": {},
   "outputs": [
    {
     "name": "stdout",
     "output_type": "stream",
     "text": [
      "her cat's name is luna \n"
     ]
    }
   ],
   "source": [
    "print(lower_sentence)"
   ]
  },
  {
   "cell_type": "markdown",
   "id": "2819635e-63b5-42eb-8926-7a0914148aba",
   "metadata": {},
   "source": [
    "### For a list : "
   ]
  },
  {
   "cell_type": "code",
   "execution_count": 5,
   "id": "a5e29c2f-f095-420c-bb4e-4516c05f464d",
   "metadata": {},
   "outputs": [],
   "source": [
    "sentence_list = [ \"Could you pass the TV remote ? \", \"It is IMPOSSIBLE to find this hotel \", \"Want to go for a dinner this Tuesday\" ]"
   ]
  },
  {
   "cell_type": "code",
   "execution_count": 6,
   "id": "82f1e3d2-5c43-4807-91e6-baa31dc4d702",
   "metadata": {},
   "outputs": [],
   "source": [
    "lower_sentence_list = [ x.lower() for x in sentence_list ]"
   ]
  },
  {
   "cell_type": "code",
   "execution_count": 7,
   "id": "a4321cc5-5d7c-4347-8df1-46fe3e0a63f9",
   "metadata": {},
   "outputs": [
    {
     "name": "stdout",
     "output_type": "stream",
     "text": [
      "['could you pass the tv remote ? ', 'it is impossible to find this hotel ', 'want to go for a dinner this tuesday']\n"
     ]
    }
   ],
   "source": [
    "print(lower_sentence_list)"
   ]
  },
  {
   "cell_type": "code",
   "execution_count": null,
   "id": "c03fc4d2-8d6e-4254-88c7-b41327deca0e",
   "metadata": {},
   "outputs": [],
   "source": []
  },
  {
   "cell_type": "markdown",
   "id": "99a83b13-035b-4213-b136-cabf561c980f",
   "metadata": {
    "jp-MarkdownHeadingCollapsed": true
   },
   "source": [
    "# 2) Removing stop words : "
   ]
  },
  {
   "cell_type": "code",
   "execution_count": 9,
   "id": "1acce153-8dd5-4c92-ace8-75d556f3acff",
   "metadata": {
    "scrolled": true
   },
   "outputs": [
    {
     "name": "stdout",
     "output_type": "stream",
     "text": [
      "Collecting nltk\n",
      "  Downloading nltk-3.9.1-py3-none-any.whl.metadata (2.9 kB)\n",
      "Collecting click (from nltk)\n",
      "  Downloading click-8.1.7-py3-none-any.whl.metadata (3.0 kB)\n",
      "Collecting joblib (from nltk)\n",
      "  Downloading joblib-1.4.2-py3-none-any.whl.metadata (5.4 kB)\n",
      "Collecting regex>=2021.8.3 (from nltk)\n",
      "  Downloading regex-2024.11.6-cp39-cp39-win_amd64.whl.metadata (41 kB)\n",
      "Collecting tqdm (from nltk)\n",
      "  Downloading tqdm-4.67.0-py3-none-any.whl.metadata (57 kB)\n",
      "Requirement already satisfied: colorama in c:\\users\\admin\\miniconda3\\envs\\datamining\\lib\\site-packages (from click->nltk) (0.4.6)\n",
      "Downloading nltk-3.9.1-py3-none-any.whl (1.5 MB)\n",
      "   ---------------------------------------- 0.0/1.5 MB ? eta -:--:--\n",
      "   ------ --------------------------------- 0.3/1.5 MB ? eta -:--:--\n",
      "   ------------- -------------------------- 0.5/1.5 MB 1.2 MB/s eta 0:00:01\n",
      "   ---------------------------------- ----- 1.3/1.5 MB 2.0 MB/s eta 0:00:01\n",
      "   ---------------------------------------- 1.5/1.5 MB 2.0 MB/s eta 0:00:00\n",
      "Downloading regex-2024.11.6-cp39-cp39-win_amd64.whl (274 kB)\n",
      "Downloading click-8.1.7-py3-none-any.whl (97 kB)\n",
      "Downloading joblib-1.4.2-py3-none-any.whl (301 kB)\n",
      "Downloading tqdm-4.67.0-py3-none-any.whl (78 kB)\n",
      "Installing collected packages: tqdm, regex, joblib, click, nltk\n",
      "Successfully installed click-8.1.7 joblib-1.4.2 nltk-3.9.1 regex-2024.11.6 tqdm-4.67.0\n"
     ]
    }
   ],
   "source": [
    "!pip install nltk"
   ]
  },
  {
   "cell_type": "code",
   "execution_count": 58,
   "id": "f1478a7f-c522-4639-a2dc-497a083ac643",
   "metadata": {},
   "outputs": [],
   "source": [
    "import nltk"
   ]
  },
  {
   "cell_type": "code",
   "execution_count": 13,
   "id": "856cc6cf-397b-4138-8ba0-4b91301f4ce7",
   "metadata": {},
   "outputs": [
    {
     "name": "stderr",
     "output_type": "stream",
     "text": [
      "[nltk_data] Downloading package stopwords to\n",
      "[nltk_data]     C:\\Users\\Admin\\AppData\\Roaming\\nltk_data...\n",
      "[nltk_data]   Package stopwords is already up-to-date!\n"
     ]
    }
   ],
   "source": [
    "import nltk\n",
    "nltk.download('stopwords')                # the stopwords package  downloaded to  C:\\Users\\Admin\\AppData\\Roaming\\nltk_data...\n",
    "from nltk.corpus import stopwords"
   ]
  },
  {
   "cell_type": "code",
   "execution_count": 18,
   "id": "dfabe49d-33f6-4404-91fd-adf0e9968e16",
   "metadata": {},
   "outputs": [
    {
     "name": "stdout",
     "output_type": "stream",
     "text": [
      "['i', 'me', 'my', 'myself', 'we', 'our', 'ours', 'ourselves', 'you', \"you're\", \"you've\", \"you'll\", \"you'd\", 'your', 'yours', 'yourself', 'yourselves', 'he', 'him', 'his', 'himself', 'she', \"she's\", 'her', 'hers', 'herself', 'it', \"it's\", 'its', 'itself', 'they', 'them', 'their', 'theirs', 'themselves', 'what', 'which', 'who', 'whom', 'this', 'that', \"that'll\", 'these', 'those', 'am', 'is', 'are', 'was', 'were', 'be', 'been', 'being', 'have', 'has', 'had', 'having', 'do', 'does', 'did', 'doing', 'a', 'an', 'the', 'and', 'but', 'if', 'or', 'because', 'as', 'until', 'while', 'of', 'at', 'by', 'for', 'with', 'about', 'against', 'between', 'into', 'through', 'during', 'before', 'after', 'above', 'below', 'to', 'from', 'up', 'down', 'in', 'out', 'on', 'off', 'over', 'under', 'again', 'further', 'then', 'once', 'here', 'there', 'when', 'where', 'why', 'how', 'all', 'any', 'both', 'each', 'few', 'more', 'most', 'other', 'some', 'such', 'no', 'nor', 'not', 'only', 'own', 'same', 'so', 'than', 'too', 'very', 's', 't', 'can', 'will', 'just', 'don', \"don't\", 'should', \"should've\", 'now', 'd', 'll', 'm', 'o', 're', 've', 'y', 'ain', 'aren', \"aren't\", 'couldn', \"couldn't\", 'didn', \"didn't\", 'doesn', \"doesn't\", 'hadn', \"hadn't\", 'hasn', \"hasn't\", 'haven', \"haven't\", 'isn', \"isn't\", 'ma', 'mightn', \"mightn't\", 'mustn', \"mustn't\", 'needn', \"needn't\", 'shan', \"shan't\", 'shouldn', \"shouldn't\", 'wasn', \"wasn't\", 'weren', \"weren't\", 'won', \"won't\", 'wouldn', \"wouldn't\"]\n"
     ]
    }
   ],
   "source": [
    "# assign the stopwords to a variable : \n",
    "en_stopwords = stopwords.words('english') \n",
    "print(en_stopwords)"
   ]
  },
  {
   "cell_type": "code",
   "execution_count": 19,
   "id": "5d2c7e7e-6b5a-47a7-9b05-e1b8c76483ea",
   "metadata": {},
   "outputs": [
    {
     "name": "stdout",
     "output_type": "stream",
     "text": [
      "far go shop want walk\n"
     ]
    }
   ],
   "source": [
    "sentence = ' it was too far to go to the shop and he did not want her to walk '\n",
    "sentence_no_stopwords = ' '.join( [word for word in sentence.split() if word not in en_stopwords ] )\n",
    "print(sentence_no_stopwords)"
   ]
  },
  {
   "cell_type": "code",
   "execution_count": 20,
   "id": "21249e5f-c62a-44fc-957e-8d3446b50599",
   "metadata": {
    "scrolled": true
   },
   "outputs": [
    {
     "name": "stdout",
     "output_type": "stream",
     "text": [
      "['i', 'me', 'my', 'myself', 'we', 'our', 'ours', 'ourselves', 'you', \"you're\", \"you've\", \"you'll\", \"you'd\", 'your', 'yours', 'yourself', 'yourselves', 'he', 'him', 'his', 'himself', 'she', \"she's\", 'her', 'hers', 'herself', 'it', \"it's\", 'its', 'itself', 'they', 'them', 'their', 'theirs', 'themselves', 'what', 'which', 'who', 'whom', 'this', 'that', \"that'll\", 'these', 'those', 'am', 'is', 'are', 'was', 'were', 'be', 'been', 'being', 'have', 'has', 'had', 'having', 'do', 'does', 'doing', 'a', 'an', 'the', 'and', 'but', 'if', 'or', 'because', 'as', 'until', 'while', 'of', 'at', 'by', 'for', 'with', 'about', 'against', 'between', 'into', 'through', 'during', 'before', 'after', 'above', 'below', 'to', 'from', 'up', 'down', 'in', 'out', 'on', 'off', 'over', 'under', 'again', 'further', 'then', 'once', 'here', 'there', 'when', 'where', 'why', 'how', 'all', 'any', 'both', 'each', 'few', 'more', 'most', 'other', 'some', 'such', 'no', 'nor', 'not', 'only', 'own', 'same', 'so', 'than', 'too', 'very', 's', 't', 'can', 'will', 'just', 'don', \"don't\", 'should', \"should've\", 'now', 'd', 'll', 'm', 'o', 're', 've', 'y', 'ain', 'aren', \"aren't\", 'couldn', \"couldn't\", 'didn', \"didn't\", 'doesn', \"doesn't\", 'hadn', \"hadn't\", 'hasn', \"hasn't\", 'haven', \"haven't\", 'isn', \"isn't\", 'ma', 'mightn', \"mightn't\", 'mustn', \"mustn't\", 'needn', \"needn't\", 'shan', \"shan't\", 'shouldn', \"shouldn't\", 'wasn', \"wasn't\", 'weren', \"weren't\", 'won', \"won't\", 'wouldn', \"wouldn't\"]\n"
     ]
    }
   ],
   "source": [
    "# removing some stopwords in en_stopwords : \n",
    "en_stopwords.remove('did')\n",
    "print(en_stopwords)"
   ]
  },
  {
   "cell_type": "code",
   "execution_count": 29,
   "id": "044a2e70-6853-4bda-b8fa-7bd833a62328",
   "metadata": {
    "scrolled": true
   },
   "outputs": [
    {
     "name": "stdout",
     "output_type": "stream",
     "text": [
      "['i', 'me', 'my', 'myself', 'we', 'our', 'ours', 'ourselves', 'you', \"you're\", \"you've\", \"you'll\", \"you'd\", 'your', 'yours', 'yourself', 'yourselves', 'he', 'him', 'his', 'himself', 'she', \"she's\", 'her', 'hers', 'herself', 'it', \"it's\", 'its', 'itself', 'they', 'them', 'their', 'theirs', 'themselves', 'what', 'which', 'who', 'whom', 'this', 'that', \"that'll\", 'these', 'those', 'am', 'is', 'are', 'was', 'were', 'be', 'been', 'being', 'have', 'has', 'had', 'having', 'do', 'does', 'doing', 'a', 'an', 'the', 'and', 'but', 'if', 'or', 'because', 'as', 'until', 'while', 'of', 'at', 'by', 'for', 'with', 'about', 'against', 'between', 'into', 'through', 'during', 'before', 'after', 'above', 'below', 'to', 'from', 'up', 'down', 'in', 'out', 'on', 'off', 'over', 'under', 'again', 'further', 'then', 'once', 'here', 'there', 'when', 'where', 'why', 'how', 'all', 'any', 'both', 'each', 'few', 'more', 'most', 'other', 'some', 'such', 'no', 'nor', 'only', 'own', 'same', 'so', 'than', 'too', 'very', 's', 't', 'can', 'will', 'just', 'don', \"don't\", 'should', \"should've\", 'now', 'd', 'll', 'm', 'o', 're', 've', 'y', 'ain', 'aren', \"aren't\", 'couldn', \"couldn't\", 'didn', \"didn't\", 'doesn', \"doesn't\", 'hadn', \"hadn't\", 'hasn', \"hasn't\", 'haven', \"haven't\", 'isn', \"isn't\", 'ma', 'mightn', \"mightn't\", 'mustn', \"mustn't\", 'needn', \"needn't\", 'shan', \"shan't\", 'shouldn', \"shouldn't\", 'wasn', \"wasn't\", 'weren', \"weren't\", 'won', \"won't\", 'wouldn', \"wouldn't\", 'go', 'go']\n"
     ]
    }
   ],
   "source": [
    "en_stopwords.append('go')\n",
    "en_stopwords.remove('not')\n",
    "print(en_stopwords)"
   ]
  },
  {
   "cell_type": "code",
   "execution_count": 30,
   "id": "3e7f62f9-be4f-4375-8730-33d3ede1df3d",
   "metadata": {},
   "outputs": [
    {
     "name": "stdout",
     "output_type": "stream",
     "text": [
      "far shop did not want walk\n"
     ]
    }
   ],
   "source": [
    "sentence_no_stopwords2 = ' '.join( [word for word in sentence.split() if word not in en_stopwords ] )\n",
    "print(sentence_no_stopwords2)"
   ]
  },
  {
   "cell_type": "markdown",
   "id": "8769a002-a2b5-4414-a836-cb1c61deecba",
   "metadata": {
    "jp-MarkdownHeadingCollapsed": true
   },
   "source": [
    "# 3) Regular expressions : "
   ]
  },
  {
   "cell_type": "code",
   "execution_count": 2,
   "id": "60cd5b08-08cb-4b32-84c4-f68ddf8bb2b2",
   "metadata": {},
   "outputs": [],
   "source": [
    "import re"
   ]
  },
  {
   "cell_type": "code",
   "execution_count": 4,
   "id": "e90a7ce3-e64e-470a-8d9d-7161c6b7f1b4",
   "metadata": {},
   "outputs": [
    {
     "name": "stdout",
     "output_type": "stream",
     "text": [
      "C:\\desktop\n",
      "otes\n"
     ]
    }
   ],
   "source": [
    "my_folder = \"C:\\desktop\\notes\"\n",
    "print(my_folder)                                     # \\n has been removed "
   ]
  },
  {
   "cell_type": "code",
   "execution_count": 7,
   "id": "a579800e-04ad-4b03-929e-f3f55c2127f4",
   "metadata": {},
   "outputs": [
    {
     "name": "stdout",
     "output_type": "stream",
     "text": [
      "C:\\desktop\\notes\n"
     ]
    }
   ],
   "source": [
    "my_folder = r\"C:\\desktop\\notes\"               # r for raw string \n",
    "print(my_folder)"
   ]
  },
  {
   "cell_type": "markdown",
   "id": "fb3ce496-781e-4fe6-a2c8-6b1b43c39f5a",
   "metadata": {},
   "source": [
    "#### .search() :"
   ]
  },
  {
   "cell_type": "code",
   "execution_count": null,
   "id": "4543c1a5-1318-4859-883c-1a69a0ba7c65",
   "metadata": {},
   "outputs": [],
   "source": [
    "result_search = re.search('pattern',r'string contain the pattern ')                      # allow us to search certain pattern is in a string \n",
    "# the first argument is the pattern to find\n",
    "# the second argument is the string in wich you want to find this pattern .\n",
    "# if the pattern isn't found return NONE ."
   ]
  },
  {
   "cell_type": "code",
   "execution_count": 9,
   "id": "a1295476-dabc-40e2-b17b-21216da69ff1",
   "metadata": {},
   "outputs": [
    {
     "name": "stdout",
     "output_type": "stream",
     "text": [
      "<re.Match object; span=(21, 25), match='food'>\n"
     ]
    }
   ],
   "source": [
    "search_result = re.search('food',r'this is my favourite food')\n",
    "print(search_result)"
   ]
  },
  {
   "cell_type": "code",
   "execution_count": 10,
   "id": "543f07f9-f3be-4277-974d-0485c9e4f1cd",
   "metadata": {},
   "outputs": [
    {
     "name": "stdout",
     "output_type": "stream",
     "text": [
      "None\n"
     ]
    }
   ],
   "source": [
    "search_result1 = re.search('weather',r'this is my favourite food')\n",
    "print(search_result1)"
   ]
  },
  {
   "cell_type": "markdown",
   "id": "e9a36f5f-d593-4d12-9017-2caf10350c62",
   "metadata": {},
   "source": [
    "#### .sub() : "
   ]
  },
  {
   "cell_type": "code",
   "execution_count": 11,
   "id": "bb77ef90-0609-41bd-a2c0-58157bcaba06",
   "metadata": {},
   "outputs": [],
   "source": [
    "# allow us to find certain text and replace it : \n",
    "# re.sub( pattern to find , replacement text , string you're looking in )"
   ]
  },
  {
   "cell_type": "code",
   "execution_count": 12,
   "id": "24365fb8-7ba3-4412-982e-5b3942cced52",
   "metadata": {},
   "outputs": [
    {
     "name": "stdout",
     "output_type": "stream",
     "text": [
      "Miss Sarah was able to help find to do the homework\n"
     ]
    }
   ],
   "source": [
    "string = r\"sara was able to help find to do the homework\"\n",
    "new_sentence = re.sub(\"sara\",\"Miss Sarah\", string ) \n",
    "print(new_sentence)"
   ]
  },
  {
   "cell_type": "markdown",
   "id": "2b7ad44c-7122-4c94-939f-769e88cb53a9",
   "metadata": {},
   "source": [
    "### Regex Syntax :"
   ]
  },
  {
   "cell_type": "markdown",
   "id": "b4c57b97-f488-453a-a0c9-3fa7aebed845",
   "metadata": {},
   "source": [
    "#### We have 6 different reviews from different customers about memebers of staffs , we will use the power of rejex syntax to pull out the different reviews : "
   ]
  },
  {
   "cell_type": "code",
   "execution_count": 13,
   "id": "f0473a34-81ce-4605-a1fa-849413867166",
   "metadata": {},
   "outputs": [],
   "source": [
    "customer_reviews = ['sam was a great help to me in the store', \n",
    "                    'the cashier was very rude to me, I think her name was eleanor', \n",
    "                    'amazing work from sadeen!', \n",
    "                    'sarah was able to help me find the items i needed quickly', \n",
    "                    'lucy is such a great addition to the team', \n",
    "                    'great service from sara she found me what i wanted ']"
   ]
  },
  {
   "cell_type": "markdown",
   "id": "477a7bb8-4a79-470f-a5fd-d6b01c65f7f5",
   "metadata": {},
   "source": [
    "#### we want only to find sara reviews , and take account for the incorrect spelling of sara :"
   ]
  },
  {
   "cell_type": "code",
   "execution_count": 15,
   "id": "550eea5b-9fd7-4e30-a2f9-c0c8a8527e31",
   "metadata": {
    "scrolled": true
   },
   "outputs": [
    {
     "data": {
      "text/plain": [
       "['sarah was able to help me find the items i needed quickly',\n",
       " 'great service from sara she found me what i wanted ']"
      ]
     },
     "execution_count": 15,
     "metadata": {},
     "output_type": "execute_result"
    }
   ],
   "source": [
    "# create an empty list list for sara reviews : \n",
    "sara_reviews = []\n",
    "\n",
    "# specifing the pattern to find :\n",
    "pattern = r\"sara?\"                    # ? to look for both sarah and sara.\n",
    "\n",
    "# create a for loop to go through each of the reviews and pull the one that matches our research .\n",
    "for string in customer_reviews :\n",
    "    if re.search(pattern , string) :\n",
    "        sara_reviews.append(string)\n",
    "sara_reviews"
   ]
  },
  {
   "cell_type": "markdown",
   "id": "459c8840-13aa-42e3-a7c2-383dbcef53d6",
   "metadata": {},
   "source": [
    "#### Look for rewiews that starts with the letter A : "
   ]
  },
  {
   "cell_type": "code",
   "execution_count": 19,
   "id": "de9d5882-fbf9-49fe-a1e3-3c42e059d657",
   "metadata": {},
   "outputs": [
    {
     "data": {
      "text/plain": [
       "['amazing work from sadeen!']"
      ]
     },
     "execution_count": 19,
     "metadata": {},
     "output_type": "execute_result"
    }
   ],
   "source": [
    "a_reviews = []\n",
    "\n",
    "for string in customer_reviews :\n",
    "    if re.search(r\"^a\", string) :                     # ^a start with a \n",
    "        a_reviews.append(string)\n",
    "\n",
    "a_reviews "
   ]
  },
  {
   "cell_type": "markdown",
   "id": "be0dcab8-bc08-483f-a46b-85bf6beac19e",
   "metadata": {},
   "source": [
    "#### Find reviews that end with the letter y :"
   ]
  },
  {
   "cell_type": "code",
   "execution_count": 21,
   "id": "284784ab-941a-4685-b2b9-0fa0940d6408",
   "metadata": {},
   "outputs": [
    {
     "data": {
      "text/plain": [
       "['sarah was able to help me find the items i needed quickly']"
      ]
     },
     "execution_count": 21,
     "metadata": {},
     "output_type": "execute_result"
    }
   ],
   "source": [
    "y_reviews = []\n",
    "\n",
    "for string in customer_reviews :\n",
    "    if  re.search(r\"y$\" , string) :\n",
    "        y_reviews.append( string)\n",
    "\n",
    "y_reviews"
   ]
  },
  {
   "cell_type": "markdown",
   "id": "3d757366-4e8a-49d1-8992-a9e83e7996e1",
   "metadata": {},
   "source": [
    "#### Find reviews that contain the words needed or wanted :"
   ]
  },
  {
   "cell_type": "code",
   "execution_count": 22,
   "id": "21751e9a-a1f6-4d2b-b592-d5a0ff3a8929",
   "metadata": {},
   "outputs": [
    {
     "data": {
      "text/plain": [
       "['sarah was able to help me find the items i needed quickly',\n",
       " 'great service from sara she found me what i wanted ']"
      ]
     },
     "execution_count": 22,
     "metadata": {},
     "output_type": "execute_result"
    }
   ],
   "source": [
    "need_wanted = []\n",
    "\n",
    "for string in customer_reviews :\n",
    "    if re.search( r\"needed|wanted\", string) :\n",
    "        need_wanted.append( string )\n",
    "\n",
    "need_wanted"
   ]
  },
  {
   "cell_type": "markdown",
   "id": "b8ac5d51-b2de-49de-a48c-639af2bc9977",
   "metadata": {},
   "source": [
    "#### Remove anything from the review that isn't a word or a space (i.e. remove punctuation) :"
   ]
  },
  {
   "cell_type": "code",
   "execution_count": 25,
   "id": "4b9b8456-0891-476e-ab15-1a90533c97a2",
   "metadata": {},
   "outputs": [
    {
     "data": {
      "text/plain": [
       "['sam was a great help to me in the store',\n",
       " 'the cashier was very rude to me I think her name was eleanor',\n",
       " 'amazing work from sadeen',\n",
       " 'sarah was able to help me find the items i needed quickly',\n",
       " 'lucy is such a great addition to the team',\n",
       " 'great service from sara she found me what i wanted ']"
      ]
     },
     "execution_count": 25,
     "metadata": {},
     "output_type": "execute_result"
    }
   ],
   "source": [
    "no_punct_review = []\n",
    "\n",
    "# [^ ] means \"not\", \\w means word and \\s means whitespace: so find anything that is not a word or a space\n",
    "pattern = r\"[^\\w\\s]\"\n",
    "\n",
    "for string in customer_reviews :\n",
    "    no = re.sub( pattern , \"\" , string) \n",
    "    no_punct_review.append( no)\n",
    "\n",
    "no_punct_review\n",
    "# hence the punctation is seccessfuly removed     "
   ]
  },
  {
   "cell_type": "markdown",
   "id": "a58101b6-c544-4987-bbad-66e300665ae8",
   "metadata": {
    "jp-MarkdownHeadingCollapsed": true
   },
   "source": [
    "# 4) Tokenization : "
   ]
  },
  {
   "cell_type": "markdown",
   "id": "26bb2824-1321-4ced-a396-5ce559104be4",
   "metadata": {},
   "source": [
    "Converting our text into smaller units "
   ]
  },
  {
   "cell_type": "code",
   "execution_count": 7,
   "id": "873906cf-1496-463d-bdb3-caf295f54756",
   "metadata": {},
   "outputs": [
    {
     "name": "stderr",
     "output_type": "stream",
     "text": [
      "[nltk_data] Downloading package punkt_tab to\n",
      "[nltk_data]     C:\\Users\\Admin\\AppData\\Roaming\\nltk_data...\n",
      "[nltk_data]   Unzipping tokenizers\\punkt_tab.zip.\n"
     ]
    }
   ],
   "source": [
    "import nltk \n",
    "nltk.download('punkt_tab')\n",
    "from nltk.tokenize import word_tokenize, sent_tokenize"
   ]
  },
  {
   "cell_type": "code",
   "execution_count": 8,
   "id": "7bebee9d-3edd-4b68-9483-336d998ef7ca",
   "metadata": {},
   "outputs": [
    {
     "name": "stdout",
     "output_type": "stream",
     "text": [
      "['C:\\\\Users\\\\Admin/nltk_data', 'C:\\\\Users\\\\Admin\\\\miniconda3\\\\envs\\\\datamining\\\\nltk_data', 'C:\\\\Users\\\\Admin\\\\miniconda3\\\\envs\\\\datamining\\\\share\\\\nltk_data', 'C:\\\\Users\\\\Admin\\\\miniconda3\\\\envs\\\\datamining\\\\lib\\\\nltk_data', 'C:\\\\Users\\\\Admin\\\\AppData\\\\Roaming\\\\nltk_data', 'C:\\\\nltk_data', 'D:\\\\nltk_data', 'E:\\\\nltk_data']\n"
     ]
    }
   ],
   "source": [
    "print(nltk.data.path)"
   ]
  },
  {
   "cell_type": "code",
   "execution_count": 43,
   "id": "63b6d8bb-c6e5-41ba-bdbb-a6a4ee760b6e",
   "metadata": {},
   "outputs": [],
   "source": [
    "# nltk.data.path = ['C:\\\\Users\\\\Admin\\\\AppData\\\\Roaming\\\\nltk_data']        "
   ]
  },
  {
   "cell_type": "markdown",
   "id": "168b8f2c-635f-4387-9893-ff4cd7695113",
   "metadata": {},
   "source": [
    "### Sentance tokenization :"
   ]
  },
  {
   "cell_type": "code",
   "execution_count": 13,
   "id": "4389753e-dd07-42c3-957b-302cbf1a2646",
   "metadata": {},
   "outputs": [
    {
     "data": {
      "text/plain": [
       "[\"Her cat's name is Luna.\", \"Her dog's name is max\"]"
      ]
     },
     "execution_count": 13,
     "metadata": {},
     "output_type": "execute_result"
    }
   ],
   "source": [
    "sentences = \"Her cat's name is Luna. Her dog's name is max\"\n",
    "sent_tokenize(sentences)"
   ]
  },
  {
   "cell_type": "markdown",
   "id": "fc3c2a9d-a602-4639-a372-c55e02622f67",
   "metadata": {},
   "source": [
    "### Word tokenization :"
   ]
  },
  {
   "cell_type": "code",
   "execution_count": 14,
   "id": "1e9471b1-873d-4f09-ad2a-6461224ba546",
   "metadata": {},
   "outputs": [
    {
     "data": {
      "text/plain": [
       "['Her', 'cat', \"'s\", 'name', 'is', 'Luna']"
      ]
     },
     "execution_count": 14,
     "metadata": {},
     "output_type": "execute_result"
    }
   ],
   "source": [
    "sentence = \"Her cat's name is Luna\"\n",
    "word_tokenize(sentence)"
   ]
  },
  {
   "cell_type": "code",
   "execution_count": 15,
   "id": "2ccc34a3-d0fe-49a1-9047-7c29bca9512d",
   "metadata": {},
   "outputs": [
    {
     "data": {
      "text/plain": [
       "['Her',\n",
       " 'cat',\n",
       " \"'s\",\n",
       " 'name',\n",
       " 'is',\n",
       " 'Luna',\n",
       " 'and',\n",
       " 'her',\n",
       " 'dog',\n",
       " \"'s\",\n",
       " 'name',\n",
       " 'is',\n",
       " 'max']"
      ]
     },
     "execution_count": 15,
     "metadata": {},
     "output_type": "execute_result"
    }
   ],
   "source": [
    "sentence_2 = \"Her cat's name is Luna and her dog's name is max\"\n",
    "word_tokenize(sentence_2)"
   ]
  },
  {
   "cell_type": "markdown",
   "id": "24d5e408-b3fd-4d9c-ac2f-4e8cf3ff406f",
   "metadata": {},
   "source": [
    "These tokens illustrate what we learned in our last lesson about the importance of using lowercase. We can see we have two instances of the word 'her' - one which is capitalised. The tokens then are different and will be treated as different in most analysis"
   ]
  },
  {
   "cell_type": "markdown",
   "id": "795a089e-9b3c-46a1-ba02-1a0367cdf16d",
   "metadata": {
    "jp-MarkdownHeadingCollapsed": true
   },
   "source": [
    "# 5) Stemming :"
   ]
  },
  {
   "cell_type": "markdown",
   "id": "a0a430b1-0f98-4e67-9bab-3d4551203a6e",
   "metadata": {},
   "source": [
    " Words are reduced to their base form .\n",
    " For example, words like ‘connecting’ or ‘connected’ will be stemmed to the base form ‘connect’. \n",
    " Stemming works by removing suffix/ending of word but can sometimes lead to the base form not being meaningful or a proper word."
   ]
  },
  {
   "cell_type": "code",
   "execution_count": 16,
   "id": "c9fb2f55-d913-4fef-882c-7ae188101cbb",
   "metadata": {},
   "outputs": [],
   "source": [
    "from nltk.stem import PorterStemmer"
   ]
  },
  {
   "cell_type": "code",
   "execution_count": 17,
   "id": "fc1d5bf9-2320-4782-b4ad-8cef27297db6",
   "metadata": {},
   "outputs": [],
   "source": [
    "# create stemmer\n",
    "ps = PorterStemmer()"
   ]
  },
  {
   "cell_type": "code",
   "execution_count": 18,
   "id": "278e2754-4f94-4db8-9967-34cd8ef7fc81",
   "metadata": {},
   "outputs": [],
   "source": [
    "connect_tokens = ['connecting', 'connected', 'connectivity', 'connect', 'connects']"
   ]
  },
  {
   "cell_type": "code",
   "execution_count": 20,
   "id": "5f30697e-3cc9-487d-819a-3e7190dd0324",
   "metadata": {},
   "outputs": [
    {
     "name": "stdout",
     "output_type": "stream",
     "text": [
      "connecting  :  connect\n",
      "connected  :  connect\n",
      "connectivity  :  connect\n",
      "connect  :  connect\n",
      "connects  :  connect\n"
     ]
    }
   ],
   "source": [
    "for t in connect_tokens:\n",
    "    print(t, \" : \", ps.stem(t))"
   ]
  },
  {
   "cell_type": "code",
   "execution_count": 22,
   "id": "8a06a5ae-984f-4809-936d-ae4e58f3d3ca",
   "metadata": {},
   "outputs": [
    {
     "name": "stdout",
     "output_type": "stream",
     "text": [
      "playing = play\n",
      "played = play\n",
      "plays = play\n"
     ]
    }
   ],
   "source": [
    "play_tokens = ['playing','played','plays']\n",
    "for i in play_tokens :\n",
    "    print( i ,'=', ps.stem(i))"
   ]
  },
  {
   "cell_type": "code",
   "execution_count": 32,
   "id": "c36dc801-fc61-4635-90cd-d5ecc92cbd66",
   "metadata": {},
   "outputs": [
    {
     "name": "stdout",
     "output_type": "stream",
     "text": [
      "learn\n",
      "learn\n",
      "learn\n",
      "learn\n",
      "learner\n",
      "learner\n"
     ]
    }
   ],
   "source": [
    "learn_tokens = ['learned', 'learning', 'learn', 'learns', 'learner', 'learners']\n",
    "for i in learn_tokens :\n",
    "    print(  ps.stem(i) )"
   ]
  },
  {
   "cell_type": "code",
   "execution_count": 34,
   "id": "d001a004-b27c-41da-9f59-6386d2e2619d",
   "metadata": {},
   "outputs": [
    {
     "name": "stdout",
     "output_type": "stream",
     "text": [
      "likes = like\n",
      "better = better\n",
      "worse = wors\n"
     ]
    }
   ],
   "source": [
    "likes_tokens = ['likes', 'better', 'worse']\n",
    "for i in likes_tokens :\n",
    "    print( i, '=', ps.stem(i))"
   ]
  },
  {
   "cell_type": "markdown",
   "id": "f8c44896-7e33-418a-b4ab-6b9033c15d8e",
   "metadata": {
    "jp-MarkdownHeadingCollapsed": true
   },
   "source": [
    "# 6) Lemmatization :"
   ]
  },
  {
   "cell_type": "markdown",
   "id": "1d67c685-230c-4c61-8d15-8b0387bed89f",
   "metadata": {},
   "source": [
    "Where stemming removes the last few characters of a word, lemmatization stems the word to a more meaningful base form and ensures it does not lose it's meaning. Lemmatization works more intelligently, referencing a pre-defined dictionary containing the context of words and uses this when diminishing the word to the base form."
   ]
  },
  {
   "cell_type": "code",
   "execution_count": 35,
   "id": "a6d572b4-7d48-4786-b1ff-ea91863932bd",
   "metadata": {},
   "outputs": [],
   "source": [
    "likes_tokens = ['likes', 'better', 'worse','enjoyment','decryptation','congratulations']"
   ]
  },
  {
   "cell_type": "markdown",
   "id": "7fec72c4-9163-47cd-9df7-5c716f58fbd4",
   "metadata": {},
   "source": [
    "### stemming : "
   ]
  },
  {
   "cell_type": "code",
   "execution_count": 36,
   "id": "750253e3-4f90-492c-a7af-82af221de327",
   "metadata": {},
   "outputs": [
    {
     "name": "stdout",
     "output_type": "stream",
     "text": [
      "like\n",
      "better\n",
      "wors\n",
      "enjoy\n",
      "decrypt\n",
      "congratul\n"
     ]
    }
   ],
   "source": [
    "for i in likes_tokens :\n",
    "    print(ps.stem(i))"
   ]
  },
  {
   "cell_type": "markdown",
   "id": "bb3d4de9-1111-4cb5-9ed5-6b7c8389d7f1",
   "metadata": {},
   "source": [
    "### Lemmitization : "
   ]
  },
  {
   "cell_type": "code",
   "execution_count": 38,
   "id": "3adfa270-5952-4c76-bdf3-8fb20a2dd6fe",
   "metadata": {},
   "outputs": [
    {
     "name": "stderr",
     "output_type": "stream",
     "text": [
      "[nltk_data] Downloading package wordnet to\n",
      "[nltk_data]     C:\\Users\\Admin\\AppData\\Roaming\\nltk_data...\n",
      "[nltk_data]   Package wordnet is already up-to-date!\n"
     ]
    }
   ],
   "source": [
    "import nltk\n",
    "nltk.download('wordnet')\n",
    "from nltk.stem import WordNetLemmatizer"
   ]
  },
  {
   "cell_type": "code",
   "execution_count": 39,
   "id": "f66be4cf-9e16-4480-afa5-2e64de97169f",
   "metadata": {},
   "outputs": [],
   "source": [
    "# create lemmatizer \n",
    "lemmatizer = WordNetLemmatizer()"
   ]
  },
  {
   "cell_type": "code",
   "execution_count": 40,
   "id": "a551d297-4492-4665-b56f-fc4e8e11edd6",
   "metadata": {},
   "outputs": [
    {
     "name": "stdout",
     "output_type": "stream",
     "text": [
      "likes  :  like\n",
      "better  :  better\n",
      "worse  :  worse\n",
      "enjoyment  :  enjoyment\n",
      "decryptation  :  decryptation\n",
      "congratulations  :  congratulation\n"
     ]
    }
   ],
   "source": [
    "for t in likes_tokens:\n",
    "    print(t, \" : \", lemmatizer.lemmatize(t))"
   ]
  },
  {
   "cell_type": "markdown",
   "id": "4771d074-edc1-4617-b3bc-92bf6b90e34d",
   "metadata": {
    "jp-MarkdownHeadingCollapsed": true
   },
   "source": [
    "# 7) N-grams :"
   ]
  },
  {
   "cell_type": "markdown",
   "id": "e4ef7cca-a897-40b5-bc14-d266156518df",
   "metadata": {},
   "source": [
    "We can break our text down into n-grams to check our preprocessing, explore the contents of our data, or create new features for machine learning. An n-gram is simply a sequence of neighbouring n words (or tokens), where n can be any number."
   ]
  },
  {
   "cell_type": "code",
   "execution_count": 41,
   "id": "84c15ad5-4ad1-4792-abec-8fea8a12ce31",
   "metadata": {},
   "outputs": [],
   "source": [
    "import nltk\n",
    "import pandas as pd\n",
    "import matplotlib.pyplot as plt"
   ]
  },
  {
   "cell_type": "code",
   "execution_count": 42,
   "id": "a2d429c4-71ed-495e-96e1-8e65f39f3741",
   "metadata": {},
   "outputs": [
    {
     "name": "stdout",
     "output_type": "stream",
     "text": [
      "['the', 'rise', 'of', 'artificial', 'intelligence', 'has', 'led', 'to', 'significant', 'advancements', 'in', 'natural', 'language', 'processing', 'computer', 'vision', 'and', 'other', 'fields', 'machine', 'learning', 'algorithms', 'are', 'becoming', 'more', 'sophisticated', 'enabling', 'computers', 'to', 'perform', 'complex', 'tasks', 'that', 'were', 'once', 'thought', 'to', 'be', 'the', 'exclusive', 'domain', 'of', 'humans', 'with', 'the', 'advent', 'of', 'deep', 'learning', 'neural', 'networks', 'have', 'become', 'even', 'more', 'powerful', 'capable', 'of', 'processing', 'vast', 'amounts', 'of', 'data', 'and', 'learning', 'from', 'it', 'in', 'ways', 'that', 'were', 'not', 'possible', 'before', 'as', 'a', 'result', 'ai', 'is', 'increasingly', 'being', 'used', 'in', 'a', 'wide', 'range', 'of', 'industries', 'from', 'healthcare', 'to', 'finance', 'to', 'transportation', 'and', 'its', 'impact', 'is', 'only', 'set', 'to', 'grow', 'in', 'the', 'years', 'to', 'come']\n"
     ]
    }
   ],
   "source": [
    "tokens = ['the', 'rise', 'of', 'artificial', 'intelligence', 'has', 'led', 'to', 'significant', 'advancements', 'in', 'natural', 'language', 'processing', 'computer', 'vision', 'and', 'other', 'fields', 'machine', 'learning', 'algorithms', 'are', 'becoming', 'more', 'sophisticated', 'enabling', 'computers', 'to', 'perform', 'complex', 'tasks', 'that', 'were', 'once', 'thought', 'to', 'be', 'the', 'exclusive', 'domain', 'of', 'humans', 'with', 'the', 'advent', 'of', 'deep', 'learning', 'neural', 'networks', 'have', 'become', 'even', 'more', 'powerful', 'capable', 'of', 'processing', 'vast', 'amounts', 'of', 'data', 'and', 'learning', 'from', 'it', 'in', 'ways', 'that', 'were', 'not', 'possible', 'before', 'as', 'a', 'result', 'ai', 'is', 'increasingly', 'being', 'used', 'in', 'a', 'wide', 'range', 'of', 'industries', 'from', 'healthcare', 'to', 'finance', 'to', 'transportation', 'and', 'its', 'impact', 'is', 'only', 'set', 'to', 'grow', 'in', 'the', 'years', 'to', 'come']\n",
    "print(tokens)"
   ]
  },
  {
   "cell_type": "markdown",
   "id": "382743b4-be15-4e02-a4a1-1cd53a3f7dcb",
   "metadata": {},
   "source": [
    "### Unigrams :"
   ]
  },
  {
   "cell_type": "code",
   "execution_count": 59,
   "id": "ec4a9cb0-a36e-478e-90bc-e2ea1ed6758d",
   "metadata": {},
   "outputs": [
    {
     "data": {
      "text/plain": [
       "0               (the,)\n",
       "1              (rise,)\n",
       "2                (of,)\n",
       "3        (artificial,)\n",
       "4      (intelligence,)\n",
       "            ...       \n",
       "102              (in,)\n",
       "103             (the,)\n",
       "104           (years,)\n",
       "105              (to,)\n",
       "106            (come,)\n",
       "Length: 107, dtype: object"
      ]
     },
     "execution_count": 59,
     "metadata": {},
     "output_type": "execute_result"
    }
   ],
   "source": [
    "# unigrams for n=1\n",
    "unigrams = pd.Series(nltk.ngrams( tokens , 1 ))               # 1 for unigrame\n",
    "unigrams"
   ]
  },
  {
   "cell_type": "code",
   "execution_count": 68,
   "id": "32f00a6b-3ab9-45d7-8606-a79c68724f6c",
   "metadata": {},
   "outputs": [
    {
     "data": {
      "text/plain": [
       "count\n",
       "1    66\n",
       "2     7\n",
       "4     2\n",
       "3     2\n",
       "7     1\n",
       "6     1\n",
       "Name: count, dtype: int64"
      ]
     },
     "execution_count": 68,
     "metadata": {},
     "output_type": "execute_result"
    }
   ],
   "source": [
    "unigrams = unigrams.value_counts()\n",
    "unigrams"
   ]
  },
  {
   "cell_type": "code",
   "execution_count": 70,
   "id": "84d75ce1-1278-46c0-bac5-0cd6dc402520",
   "metadata": {},
   "outputs": [
    {
     "name": "stdout",
     "output_type": "stream",
     "text": [
      "(to,)          7\n",
      "(of,)          6\n",
      "(the,)         4\n",
      "(in,)          4\n",
      "(learning,)    3\n",
      "              ..\n",
      "(humans,)      1\n",
      "(rise,)        1\n",
      "(advent,)      1\n",
      "(deep,)        1\n",
      "(come,)        1\n",
      "Name: count, Length: 79, dtype: int64\n"
     ]
    }
   ],
   "source": [
    "# unigrams: n=1\n",
    "unigrams = (pd.Series(nltk.ngrams(tokens, 1)).value_counts()) \n",
    "print(unigrams)"
   ]
  },
  {
   "cell_type": "code",
   "execution_count": 76,
   "id": "ef400d60-04d0-4bf6-be07-eb527cdde6f7",
   "metadata": {},
   "outputs": [
    {
     "data": {
      "text/plain": [
       "Text(0.5, 0, '# of Occurances')"
      ]
     },
     "execution_count": 76,
     "metadata": {},
     "output_type": "execute_result"
    },
    {
     "data": {
      "image/png": "[encoded data removed]",
      "text/plain": [
       "<Figure size 500x500 with 1 Axes>"
      ]
     },
     "metadata": {},
     "output_type": "display_data"
    }
   ],
   "source": [
    "unigrams[0:10].sort_values().plot.barh(color='lightsalmon', width=.9, figsize=(5,5))\n",
    "plt.title('10 Most Frequently Occuring Unigrams')\n",
    "plt.ylabel('Unigram')\n",
    "plt.xlabel('# of Occurances')"
   ]
  },
  {
   "cell_type": "markdown",
   "id": "5a3e3bab-7786-43c0-8407-ead10a1466c9",
   "metadata": {},
   "source": [
    "### bigrams: n=2 "
   ]
  },
  {
   "cell_type": "code",
   "execution_count": 72,
   "id": "dde505b5-d4fd-4961-8ef5-fdb55b1bb3d7",
   "metadata": {},
   "outputs": [
    {
     "name": "stdout",
     "output_type": "stream",
     "text": [
      "(that, were)             2\n",
      "(the, rise)              1\n",
      "(increasingly, being)    1\n",
      "(ai, is)                 1\n",
      "(result, ai)             1\n",
      "                        ..\n",
      "(tasks, that)            1\n",
      "(complex, tasks)         1\n",
      "(perform, complex)       1\n",
      "(to, perform)            1\n",
      "(to, come)               1\n",
      "Name: count, Length: 105, dtype: int64\n"
     ]
    }
   ],
   "source": [
    "bigrams = (pd.Series(nltk.ngrams(tokens, 2)).value_counts()) \n",
    "print(bigrams)"
   ]
  },
  {
   "cell_type": "code",
   "execution_count": 75,
   "id": "6b057ee1-ca41-47b3-9cee-b6b5da17592e",
   "metadata": {},
   "outputs": [
    {
     "data": {
      "text/plain": [
       "Text(0.5, 0, '# of Occurances')"
      ]
     },
     "execution_count": 75,
     "metadata": {},
     "output_type": "execute_result"
    },
    {
     "data": {
      "image/png": "[encoded data removed]",
      "text/plain": [
       "<Figure size 500x500 with 1 Axes>"
      ]
     },
     "metadata": {},
     "output_type": "display_data"
    }
   ],
   "source": [
    "bigrams[0:10].sort_values().plot.barh(color='skyblue', width=.9, figsize=(5, 5))\n",
    "plt.title('10 Most Frequently Occuring Bigrams')\n",
    "plt.ylabel('Bigram')\n",
    "plt.xlabel('# of Occurances')"
   ]
  },
  {
   "cell_type": "markdown",
   "id": "9f6765e5-b80b-4bb9-a04d-b05c9f5cc3fb",
   "metadata": {},
   "source": [
    "### trigrams: n=3"
   ]
  },
  {
   "cell_type": "code",
   "execution_count": 77,
   "id": "33b6bf49-969a-4314-b4d3-038ba6394e27",
   "metadata": {},
   "outputs": [
    {
     "name": "stdout",
     "output_type": "stream",
     "text": [
      "(the, rise, of)              1\n",
      "(even, more, powerful)       1\n",
      "(ai, is, increasingly)       1\n",
      "(result, ai, is)             1\n",
      "(a, result, ai)              1\n",
      "                            ..\n",
      "(that, were, once)           1\n",
      "(tasks, that, were)          1\n",
      "(complex, tasks, that)       1\n",
      "(perform, complex, tasks)    1\n",
      "(years, to, come)            1\n",
      "Name: count, Length: 105, dtype: int64\n"
     ]
    }
   ],
   "source": [
    "trigrams = (pd.Series(nltk.ngrams(tokens, 3)).value_counts()) \n",
    "print(trigrams)"
   ]
  },
  {
   "cell_type": "markdown",
   "id": "a96dca69-6c01-4f04-b4e6-49009fa88b0b",
   "metadata": {},
   "source": [
    "### when n is greater than 3 we refer to it by ngrams :"
   ]
  }
 ],
 "metadata": {
  "kernelspec": {
   "display_name": "Python 3 (ipykernel)",
   "language": "python",
   "name": "python3"
  },
  "language_info": {
   "codemirror_mode": {
    "name": "ipython",
    "version": 3
   },
   "file_extension": ".py",
   "mimetype": "text/x-python",
   "name": "python",
   "nbconvert_exporter": "python",
   "pygments_lexer": "ipython3",
   "version": "3.9.19"
  }
 },
 "nbformat": 4,
 "nbformat_minor": 5
}
