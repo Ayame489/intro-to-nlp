{
 "cells": [
  {
   "cell_type": "markdown",
   "id": "cc800219-fca5-4a28-b3a5-42189bcc58e7",
   "metadata": {},
   "source": [
    "# $$ Step\\ 2 : remove\\ punctuation  $$"
   ]
  },
  {
   "cell_type": "markdown",
   "id": "e8703252-9aa1-4f7f-8885-5d1858d5fe3e",
   "metadata": {},
   "source": [
    "___________________"
   ]
  },
  {
   "cell_type": "markdown",
   "id": "55d276a2-0e06-4639-a41c-409ee3e1ae62",
   "metadata": {},
   "source": [
    "### Removing Punctuation in Text Cleaning 🧹\n",
    "\n",
    "Removing punctuation involves eliminating characters like commas, periods, and exclamation marks from the text. This step helps standardize the text, reduces noise, and improves the model’s ability to focus on meaningful content, especially in tasks like sentiment analysis and topic modeling.\n"
   ]
  },
  {
   "cell_type": "markdown",
   "id": "bf659574-9f5e-44e8-a302-ac544736f6a4",
   "metadata": {},
   "source": [
    "_________________"
   ]
  },
  {
   "cell_type": "markdown",
   "id": "bb8ee646-bc6b-47cd-97f2-3fdd81c7bce7",
   "metadata": {},
   "source": [
    "## Code implementation : "
   ]
  },
  {
   "cell_type": "code",
   "execution_count": 2,
   "id": "771ec43b-f60e-4e47-b5f6-46cbf017563d",
   "metadata": {},
   "outputs": [
    {
     "data": {
      "text/plain": [
       "'!\"#$%&\\'()*+,-./:;<=>?@[\\\\]^_`{|}~'"
      ]
     },
     "execution_count": 2,
     "metadata": {},
     "output_type": "execute_result"
    }
   ],
   "source": [
    "import string \n",
    "string.punctuation "
   ]
  },
  {
   "cell_type": "markdown",
   "id": "831f8e9c-fd6b-4e60-8c74-c7611e31eaf0",
   "metadata": {},
   "source": [
    "## Exemple 1 :"
   ]
  },
  {
   "cell_type": "code",
   "execution_count": 3,
   "id": "5186b96b-6415-43ff-8457-87caf9acfb1f",
   "metadata": {},
   "outputs": [],
   "source": [
    "sentence = \" I$ am intrested in {AI} &&& {ML} \""
   ]
  },
  {
   "cell_type": "code",
   "execution_count": 5,
   "id": "269b965f-ce3e-412d-8b55-434e4e81347b",
   "metadata": {
    "scrolled": true
   },
   "outputs": [
    {
     "data": {
      "text/plain": [
       "[' ',\n",
       " 'I',\n",
       " ' ',\n",
       " 'a',\n",
       " 'm',\n",
       " ' ',\n",
       " 'i',\n",
       " 'n',\n",
       " 't',\n",
       " 'r',\n",
       " 'e',\n",
       " 's',\n",
       " 't',\n",
       " 'e',\n",
       " 'd',\n",
       " ' ',\n",
       " 'i',\n",
       " 'n',\n",
       " ' ',\n",
       " 'A',\n",
       " 'I',\n",
       " ' ',\n",
       " ' ',\n",
       " 'M',\n",
       " 'L',\n",
       " ' ']"
      ]
     },
     "execution_count": 5,
     "metadata": {},
     "output_type": "execute_result"
    }
   ],
   "source": [
    "sentence_no_punc = [ char for char in sentence if char not in string.punctuation ]\n",
    "sentence_no_punc"
   ]
  },
  {
   "cell_type": "code",
   "execution_count": 6,
   "id": "17358414-5c11-4da2-90fc-6f5d63bc81a0",
   "metadata": {},
   "outputs": [
    {
     "data": {
      "text/plain": [
       "' I am intrested in AI  ML '"
      ]
     },
     "execution_count": 6,
     "metadata": {},
     "output_type": "execute_result"
    }
   ],
   "source": [
    "sentence_no_punc_join = \"\".join(sentence_no_punc)\n",
    "sentence_no_punc_join"
   ]
  },
  {
   "cell_type": "markdown",
   "id": "da64febe-4f75-4b73-a7ac-dbdb669d8070",
   "metadata": {},
   "source": [
    "## Exemple 2 :"
   ]
  },
  {
   "cell_type": "code",
   "execution_count": 7,
   "id": "421e7952-9a29-4956-9e68-4799107463db",
   "metadata": {},
   "outputs": [
    {
     "data": {
      "text/plain": [
       "' Good evening   HELLO everyone  Let dive into  ML '"
      ]
     },
     "execution_count": 7,
     "metadata": {},
     "output_type": "execute_result"
    }
   ],
   "source": [
    "sentence2 = \" Good evening , .....! $HELLO everyone$ _ Let dive into :) {ML} \"\n",
    "sentence2_punc_removed = [char for char in sentence2 if char not in string.punctuation ]\n",
    "sentence2_punc_removed_join = \"\".join(sentence2_punc_removed)\n",
    "sentence2_punc_removed_join"
   ]
  },
  {
   "cell_type": "markdown",
   "id": "97108608-ce2a-44ee-a041-e018be44c923",
   "metadata": {},
   "source": [
    "## Exemple 3 :"
   ]
  },
  {
   "cell_type": "markdown",
   "id": "d3787374-ff2f-4186-995f-4740dd42bb30",
   "metadata": {},
   "source": [
    "Similar to the example where we convert text to lowercase and remove punctuation, we will create a function to transform the text by converting it to lowercase and removing stop words in sequence as part of our preprocessing pipeline."
   ]
  },
  {
   "cell_type": "code",
   "execution_count": 11,
   "id": "1f877827-ce37-4db4-aedc-fe88e8bac159",
   "metadata": {},
   "outputs": [],
   "source": [
    "def lower_punc_removed(text) :\n",
    "    \n",
    "    # Lowercase :\n",
    "    text_lower = [ x.lower() for x in text ]\n",
    "\n",
    "    # Remove punctuation :\n",
    "    text_punc_removed = [ char for char in text_lower if char not in string.punctuation]\n",
    "    test_punc_removed_join = \"\".join(text_punc_removed)\n",
    "\n",
    "    return test_punc_removed_join   "
   ]
  },
  {
   "cell_type": "markdown",
   "id": "017c637c-a5d9-4425-b646-37b4b62cd9ac",
   "metadata": {},
   "source": [
    "### For a simple string :"
   ]
  },
  {
   "cell_type": "code",
   "execution_count": 19,
   "id": "7d18563e-7538-45e0-a031-1581ae1fafb6",
   "metadata": {},
   "outputs": [],
   "source": [
    "# For a simple string :\n",
    "TEST1 = \"I can't believe it!!! $$$ What a surprise! &#)\""
   ]
  },
  {
   "cell_type": "code",
   "execution_count": 20,
   "id": "b4b102fc-d5c2-4746-a3d0-a811980f2c5d",
   "metadata": {},
   "outputs": [
    {
     "name": "stdout",
     "output_type": "stream",
     "text": [
      "i cant believe it  what a surprise \n"
     ]
    }
   ],
   "source": [
    "print( lower_punc_removed(TEST1))"
   ]
  },
  {
   "cell_type": "markdown",
   "id": "437d6f75-5cf5-45af-900b-4ec9739f9026",
   "metadata": {},
   "source": [
    "### For a list of string "
   ]
  },
  {
   "cell_type": "code",
   "execution_count": 21,
   "id": "3b1ce166-4dc9-41ac-9602-d5b91f4c5b1a",
   "metadata": {},
   "outputs": [],
   "source": [
    "TEST2 = [\n",
    "    \"This is amazing...!! #_Let’s go!!!\",\n",
    "    \"I’ve been waiting for this moment! {Finally, it's here!}\",\n",
    "    \"Wow! Look at this deal... $$$50% OFF! Get it now!!!\",\n",
    "    \"Are you kidding me?!!! $$$&# Let's go!!!\"\n",
    "]"
   ]
  },
  {
   "cell_type": "markdown",
   "id": "f59d1194-e923-423c-b958-902342ddee47",
   "metadata": {},
   "source": [
    "#### Aproach 1 : transform the list into a single string "
   ]
  },
  {
   "cell_type": "code",
   "execution_count": 22,
   "id": "6b3be528-d604-4166-9460-6cc6bae39fee",
   "metadata": {},
   "outputs": [
    {
     "data": {
      "text/plain": [
       "\"This is amazing...!! #_Let’s go!!! I’ve been waiting for this moment! {Finally, it's here!} Wow! Look at this deal... $$$50% OFF! Get it now!!! Are you kidding me?!!! $$$&# Let's go!!!\""
      ]
     },
     "execution_count": 22,
     "metadata": {},
     "output_type": "execute_result"
    }
   ],
   "source": [
    "# Transform the list to a single string :\n",
    "TEST2_as_one_string = \" \".join(TEST2)\n",
    "TEST2_as_one_string"
   ]
  },
  {
   "cell_type": "code",
   "execution_count": 23,
   "id": "e6f801df-eb97-4995-90cf-281fbf4636cf",
   "metadata": {},
   "outputs": [
    {
     "name": "stdout",
     "output_type": "stream",
     "text": [
      "this is amazing let’s go i’ve been waiting for this moment finally its here wow look at this deal 50 off get it now are you kidding me  lets go\n"
     ]
    }
   ],
   "source": [
    "print( lower_punc_removed(TEST2_as_one_string))"
   ]
  },
  {
   "cell_type": "markdown",
   "id": "a8321ed8-23d4-4a07-94ff-f4a02a4b5ce3",
   "metadata": {},
   "source": [
    "#### Approach 2 : Apply the function to each sentence in the list"
   ]
  },
  {
   "cell_type": "code",
   "execution_count": 26,
   "id": "9a60fbb2-5ebc-4be7-9fc3-f598b8da5f21",
   "metadata": {},
   "outputs": [
    {
     "name": "stdout",
     "output_type": "stream",
     "text": [
      "this is amazing let’s go\n",
      "i’ve been waiting for this moment finally its here\n",
      "wow look at this deal 50 off get it now\n",
      "are you kidding me  lets go\n"
     ]
    }
   ],
   "source": [
    "cleaned_sentences = [lower_punc_removed(sentence) for sentence in TEST2]\n",
    "\n",
    "# Print cleaned sentences\n",
    "for sentence in cleaned_sentences:\n",
    "    print(sentence)"
   ]
  },
  {
   "cell_type": "code",
   "execution_count": null,
   "id": "fd802e51-66f8-4f3a-af50-9cc893107c92",
   "metadata": {},
   "outputs": [],
   "source": []
  }
 ],
 "metadata": {
  "kernelspec": {
   "display_name": "Python 3 (ipykernel)",
   "language": "python",
   "name": "python3"
  },
  "language_info": {
   "codemirror_mode": {
    "name": "ipython",
    "version": 3
   },
   "file_extension": ".py",
   "mimetype": "text/x-python",
   "name": "python",
   "nbconvert_exporter": "python",
   "pygments_lexer": "ipython3",
   "version": "3.9.15"
  }
 },
 "nbformat": 4,
 "nbformat_minor": 5
}
