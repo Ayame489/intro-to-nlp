{
 "cells": [
  {
   "cell_type": "markdown",
   "id": "de133597-d1a0-45e1-9d36-b8e8b32e3194",
   "metadata": {},
   "source": [
    "# $$ Step\\ 1: Lowercase $$"
   ]
  },
  {
   "cell_type": "markdown",
   "id": "203d9f97-20b6-4bac-9da3-e0bc1663eb7e",
   "metadata": {},
   "source": [
    "_______________________"
   ]
  },
  {
   "cell_type": "markdown",
   "id": "52876eb9-f64e-41ad-adf2-44a30d3be50c",
   "metadata": {},
   "source": [
    "## Lowercasing in Text Cleaning 🧹🔤"
   ]
  },
  {
   "cell_type": "markdown",
   "id": "b150bb4c-4afb-455b-9d98-b48d2e8d613c",
   "metadata": {},
   "source": [
    "One of the initial steps in text cleaning for Natural Language Processing (NLP) is **lowercasing** the entire text. This process involves converting all characters in the text to lowercase, which helps standardize the text and makes it easier to analyze. 🔄"
   ]
  },
  {
   "cell_type": "markdown",
   "id": "fb02e07a-bd53-441c-901b-b00b5fca6c93",
   "metadata": {},
   "source": [
    "____________"
   ]
  },
  {
   "cell_type": "markdown",
   "id": "1fd0d86a-ef50-435c-8aa4-a226858f996e",
   "metadata": {},
   "source": [
    "## When Lowercasing is Relevant? 🤔"
   ]
  },
  {
   "cell_type": "markdown",
   "id": "ff82eb49-e435-4610-8455-3f7da415f6fd",
   "metadata": {},
   "source": [
    "Lowercasing is particularly useful when the case of a word does not carry significant meaning. For example:\n",
    "\n",
    "- **\"Apple\"** and **\"apple\"** should be treated as the same word when performing tasks like **sentiment analysis** . This is because these tasks do not require the differentiation between uppercase and lowercase letters. ✔️\n",
    "\n",
    "By converting everything to lowercase, the model can focus on the actual content and avoid treating words like \"Good\" and \"good\" as separate entities, thereby reducing redundancy. 🧠\n"
   ]
  },
  {
   "cell_type": "markdown",
   "id": "0cfb0efe-ad3f-4175-951b-d49d5f47b04d",
   "metadata": {},
   "source": [
    "___________"
   ]
  },
  {
   "cell_type": "markdown",
   "id": "b21f5e16-86ee-4090-a07a-c79dea0392d7",
   "metadata": {},
   "source": [
    "## When is Lowercasing Not Recommended? 🚫"
   ]
  },
  {
   "cell_type": "markdown",
   "id": "012d5ded-483e-4083-abe2-107d3a841468",
   "metadata": {},
   "source": [
    "While lowercasing is commonly applied, there are situations where it may not be appropriate:\n",
    "- In tasks like **Named Entity Recognition (NER)** or or **topic modeling**, the case of a word often carries crucial information. For example:\n",
    "    - **\"Apple\"** refers to a company 🏢 .\n",
    "    - **\"apple\"** refers to the fruit 🍎.\n",
    "    \n",
    "**Named Entity Recognition (NER)** is an NLP technique that identifies and classifies key entities (like names, organizations, locations, etc.) in text. In this case, \"Apple\" as a company should not be treated the same as \"apple\" the fruit, because they represent different entities. NER helps in extracting such important information accurately. 🧑‍💻"
   ]
  },
  {
   "cell_type": "markdown",
   "id": "b4b9b864-f943-4818-8139-a88c4a38584c",
   "metadata": {},
   "source": [
    "**Topic Modeling** is a technique in Natural Language Processing (NLP) that is used to discover the underlying themes or topics in a collection of documents. It helps identify patterns and group similar documents together based on the topics they discuss. 📚\n",
    "\n",
    "Lowercasing can sometimes alter the meaning if certain words in uppercase are important for distinguishing topics.\n",
    " \n",
    "Topic modeling is an **unsupervised learning** method that doesn't require predefined labels or categories. Common algorithms used for topic modeling include:\n",
    "- **Latent Dirichlet Allocation (LDA)**: Assumes each document is a mixture of topics and each topic is a mixture of words.\n",
    "- **Non-negative Matrix Factorization (NMF)**: Factorizes a document-term matrix to capture underlying topics."
   ]
  },
  {
   "cell_type": "markdown",
   "id": "1a23053a-354f-40cd-8611-a1b53093d632",
   "metadata": {},
   "source": [
    "_____________"
   ]
  },
  {
   "cell_type": "markdown",
   "id": "2e55d83e-6998-46c8-b1ac-271c91b9d43c",
   "metadata": {},
   "source": [
    "#### Conclusion 📋\n",
    "\n",
    "In summary, lowercasing is a useful step in text cleaning, but its relevance depends on the specific NLP task. It's essential to evaluate the importance of case sensitivity in your task before applying this step. 🔍"
   ]
  },
  {
   "cell_type": "markdown",
   "id": "0f8ef8e2-59f5-41f6-823d-5a3f381081c1",
   "metadata": {},
   "source": [
    "___________________"
   ]
  },
  {
   "cell_type": "markdown",
   "id": "3e369203-7b18-414a-89f2-45b96e97ea7f",
   "metadata": {},
   "source": [
    "## Code Implementation :"
   ]
  },
  {
   "cell_type": "code",
   "execution_count": 2,
   "id": "f3cca0b6-1685-4ec8-8050-a9077c1c700c",
   "metadata": {},
   "outputs": [],
   "source": [
    "sentence = \"I HATE how slow my phone is. It's so FRUSTRAING! \""
   ]
  },
  {
   "cell_type": "code",
   "execution_count": 3,
   "id": "976cbaf6-1ff6-4ed6-90fc-76338f1d2c1c",
   "metadata": {},
   "outputs": [],
   "source": [
    "sentence_lower = sentence.lower()"
   ]
  },
  {
   "cell_type": "code",
   "execution_count": 4,
   "id": "4da69f72-c120-4525-9362-fbe97e72322e",
   "metadata": {},
   "outputs": [
    {
     "data": {
      "text/plain": [
       "\"i hate how slow my phone is. it's so frustraing! \""
      ]
     },
     "execution_count": 4,
     "metadata": {},
     "output_type": "execute_result"
    }
   ],
   "source": [
    "sentence_lower"
   ]
  },
  {
   "cell_type": "code",
   "execution_count": 5,
   "id": "29c4c622-02a9-403f-8735-1c44f391eae4",
   "metadata": {},
   "outputs": [],
   "source": [
    "sentences = [\n",
    "    \"I absolutely LOVE this new phone! The features are INcreDIble!\",\n",
    "    \"I am so frustrated with the slow performance of my laptop. It's terrible!\",\n",
    "    \"The movie was okay, NOT GReaT but not BAD either.\",\n",
    "    \"The service at the restaurant was AMAZING! I will definitely COME BACK.\",\n",
    "    \"I can’t believe how poorly this software is designed. It's unusable.\",\n",
    "    \"I am really excited about the new game release! Can’t wait to try it!\",\n",
    "    \"I am thrilled with how well the project TURNED OUT. It’s beyond expectations!\"\n",
    "]"
   ]
  },
  {
   "cell_type": "code",
   "execution_count": 6,
   "id": "75f1f3f0-2c5b-476c-a0ad-0c070f856b39",
   "metadata": {},
   "outputs": [],
   "source": [
    "sentences_lower = [ x.lower() for x in sentences ]"
   ]
  },
  {
   "cell_type": "code",
   "execution_count": 7,
   "id": "0a8dec51-6ccc-4785-9100-cffb2f2145d1",
   "metadata": {},
   "outputs": [
    {
     "data": {
      "text/plain": [
       "['i absolutely love this new phone! the features are incredible!',\n",
       " \"i am so frustrated with the slow performance of my laptop. it's terrible!\",\n",
       " 'the movie was okay, not great but not bad either.',\n",
       " 'the service at the restaurant was amazing! i will definitely come back.',\n",
       " \"i can’t believe how poorly this software is designed. it's unusable.\",\n",
       " 'i am really excited about the new game release! can’t wait to try it!',\n",
       " 'i am thrilled with how well the project turned out. it’s beyond expectations!']"
      ]
     },
     "execution_count": 7,
     "metadata": {},
     "output_type": "execute_result"
    }
   ],
   "source": [
    "sentences_lower "
   ]
  },
  {
   "cell_type": "markdown",
   "id": "ce2715fa-8a80-49e2-ba16-66f8e0d5788b",
   "metadata": {},
   "source": [
    "___________"
   ]
  },
  {
   "cell_type": "code",
   "execution_count": null,
   "id": "4e555295-e343-41ef-9dd7-a9aa3806f115",
   "metadata": {},
   "outputs": [],
   "source": []
  }
 ],
 "metadata": {
  "kernelspec": {
   "display_name": "Python 3 (ipykernel)",
   "language": "python",
   "name": "python3"
  },
  "language_info": {
   "codemirror_mode": {
    "name": "ipython",
    "version": 3
   },
   "file_extension": ".py",
   "mimetype": "text/x-python",
   "name": "python",
   "nbconvert_exporter": "python",
   "pygments_lexer": "ipython3",
   "version": "3.9.15"
  }
 },
 "nbformat": 4,
 "nbformat_minor": 5
}
