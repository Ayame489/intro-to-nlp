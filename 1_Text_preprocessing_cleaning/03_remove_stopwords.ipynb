{
 "cells": [
  {
   "cell_type": "markdown",
   "id": "5adde772-138d-43cb-aa00-430331238e7c",
   "metadata": {},
   "source": [
    "# $$ Step\\ 3\\ : Remove\\ stopwrods\\ $$"
   ]
  },
  {
   "cell_type": "markdown",
   "id": "d65f2a44-0000-452b-bcc5-7644db8ae0dd",
   "metadata": {},
   "source": [
    "______________________"
   ]
  },
  {
   "cell_type": "markdown",
   "id": "f167c21c-7748-42c2-bc90-2cf62d943ff2",
   "metadata": {},
   "source": [
    "## Removing Stop Words in Text Preprocessing 🧹"
   ]
  },
  {
   "cell_type": "markdown",
   "id": "63a5876e-c6d0-40ac-91fc-638cbafe3949",
   "metadata": {},
   "source": [
    "In text preprocessing, **stop words** are common words (such as \"the\", \"is\", \"in\", \"and\", etc.) that are typically removed from the text because they don't add significant meaning in most **Natural Language Processing (NLP)** tasks. "
   ]
  },
  {
   "cell_type": "markdown",
   "id": "5562336d-17eb-461a-993b-0b6e9b7e70f7",
   "metadata": {},
   "source": [
    "### Why Remove Stop Words?\n",
    "\n",
    "Removing stop words is useful in many NLP tasks, especially when the goal is to focus on the important words in a sentence that contribute to the meaning. For instance:\n",
    "- In **sentiment analysis**, words like \"the\", \"a\", and \"is\" do not provide much information about the sentiment of a text.\n",
    "- In **topic modeling**, stop words don't contribute to discovering the core topics from the text data.\n",
    "\n",
    "By removing these common, less meaningful words, the model can focus on the more important words that carry the core information."
   ]
  },
  {
   "cell_type": "markdown",
   "id": "23c8e532-2dfb-45ce-8693-da665fc3d5d2",
   "metadata": {},
   "source": [
    "### When Are Stop Words Relevant?\n",
    "\n",
    "Although stop words are often removed, there are scenarios where they might be important:\n",
    "- In **Named Entity Recognition (NER)**, the stop words can be important for understanding the context and relationships between entities. For example, in the sentence \"Barack Obama is the president,\" removing \"is\" would lead to confusion.\n",
    "- In some cases, stop words can help maintain sentence structure or meaning, especially for tasks that require understanding syntax, like **part-of-speech tagging**."
   ]
  },
  {
   "cell_type": "markdown",
   "id": "c18489cc-c0ca-4cfd-9800-e7577bad2248",
   "metadata": {},
   "source": [
    "### Using NLTK for Stop Word Removal\n",
    "\n",
    "The **nltk** (Natural Language Toolkit) package provides a list of predefined stop words in many languages, which can be used for easy removal during preprocessing. We can load the list of stop words and filter them out of the text data efficiently."
   ]
  },
  {
   "cell_type": "markdown",
   "id": "0238b0d2-5e69-4b41-bdf1-84041ba07836",
   "metadata": {},
   "source": [
    "__________________"
   ]
  },
  {
   "cell_type": "markdown",
   "id": "7ba7cf92-2ab3-407a-8438-f186aea0c94e",
   "metadata": {},
   "source": [
    "# Code implementation :"
   ]
  },
  {
   "cell_type": "code",
   "execution_count": 2,
   "id": "f032a8f9-b4bb-4337-94f2-ce3cc95340c6",
   "metadata": {},
   "outputs": [
    {
     "name": "stderr",
     "output_type": "stream",
     "text": [
      "[nltk_data] Downloading package stopwords to\n",
      "[nltk_data]     C:\\Users\\Admin\\AppData\\Roaming\\nltk_data...\n",
      "[nltk_data]   Package stopwords is already up-to-date!\n"
     ]
    },
    {
     "data": {
      "text/plain": [
       "True"
      ]
     },
     "execution_count": 2,
     "metadata": {},
     "output_type": "execute_result"
    }
   ],
   "source": [
    "# Download stopwords :\n",
    "import nltk \n",
    "nltk.download('stopwords')"
   ]
  },
  {
   "cell_type": "code",
   "execution_count": 3,
   "id": "dead5f6c-c7d0-4411-8ef8-a514c6f4e9bb",
   "metadata": {},
   "outputs": [],
   "source": [
    "# We will be using the english stopwords :\n",
    "from nltk.corpus import stopwords\n",
    "eng_stopwords = stopwords.words('english')"
   ]
  },
  {
   "cell_type": "code",
   "execution_count": 4,
   "id": "510cfbd0-63c2-431c-9def-197cf2c2089b",
   "metadata": {},
   "outputs": [
    {
     "name": "stdout",
     "output_type": "stream",
     "text": [
      "['a', 'about', 'above', 'after', 'again', 'against', 'ain', 'all', 'am', 'an', 'and', 'any', 'are', 'aren', \"aren't\", 'as', 'at', 'be', 'because', 'been', 'before', 'being', 'below', 'between', 'both', 'but', 'by', 'can', 'couldn', \"couldn't\", 'd', 'did', 'didn', \"didn't\", 'do', 'does', 'doesn', \"doesn't\", 'doing', 'don', \"don't\", 'down', 'during', 'each', 'few', 'for', 'from', 'further', 'had', 'hadn', \"hadn't\", 'has', 'hasn', \"hasn't\", 'have', 'haven', \"haven't\", 'having', 'he', \"he'd\", \"he'll\", 'her', 'here', 'hers', 'herself', \"he's\", 'him', 'himself', 'his', 'how', 'i', \"i'd\", 'if', \"i'll\", \"i'm\", 'in', 'into', 'is', 'isn', \"isn't\", 'it', \"it'd\", \"it'll\", \"it's\", 'its', 'itself', \"i've\", 'just', 'll', 'm', 'ma', 'me', 'mightn', \"mightn't\", 'more', 'most', 'mustn', \"mustn't\", 'my', 'myself', 'needn', \"needn't\", 'no', 'nor', 'not', 'now', 'o', 'of', 'off', 'on', 'once', 'only', 'or', 'other', 'our', 'ours', 'ourselves', 'out', 'over', 'own', 're', 's', 'same', 'shan', \"shan't\", 'she', \"she'd\", \"she'll\", \"she's\", 'should', 'shouldn', \"shouldn't\", \"should've\", 'so', 'some', 'such', 't', 'than', 'that', \"that'll\", 'the', 'their', 'theirs', 'them', 'themselves', 'then', 'there', 'these', 'they', \"they'd\", \"they'll\", \"they're\", \"they've\", 'this', 'those', 'through', 'to', 'too', 'under', 'until', 'up', 've', 'very', 'was', 'wasn', \"wasn't\", 'we', \"we'd\", \"we'll\", \"we're\", 'were', 'weren', \"weren't\", \"we've\", 'what', 'when', 'where', 'which', 'while', 'who', 'whom', 'why', 'will', 'with', 'won', \"won't\", 'wouldn', \"wouldn't\", 'y', 'you', \"you'd\", \"you'll\", 'your', \"you're\", 'yours', 'yourself', 'yourselves', \"you've\"]\n"
     ]
    }
   ],
   "source": [
    "print(eng_stopwords)"
   ]
  },
  {
   "cell_type": "markdown",
   "id": "a43cad69-134c-42af-bb99-2e8f3a43be1f",
   "metadata": {},
   "source": [
    "#### Add custom stop words :"
   ]
  },
  {
   "cell_type": "code",
   "execution_count": 7,
   "id": "886c3fd1-309d-4ace-8a20-c01968df0c63",
   "metadata": {},
   "outputs": [],
   "source": [
    "eng_stopwords.append(\"go\")"
   ]
  },
  {
   "cell_type": "markdown",
   "id": "424cab02-0579-4145-a8b0-4422934de073",
   "metadata": {},
   "source": [
    "#### Removing stop words :"
   ]
  },
  {
   "cell_type": "code",
   "execution_count": 9,
   "id": "295a8401-a1b0-454b-8011-12bd487132a3",
   "metadata": {},
   "outputs": [],
   "source": [
    "eng_stopwords.remove(\"did\")\n",
    "eng_stopwords.remove(\"not\")"
   ]
  },
  {
   "cell_type": "markdown",
   "id": "2c0d57e6-b82c-4296-af9d-ffb7fa790853",
   "metadata": {},
   "source": [
    "## Exemple 1 :"
   ]
  },
  {
   "cell_type": "code",
   "execution_count": 5,
   "id": "7648ff8b-f655-41c0-be9d-42db4e165c99",
   "metadata": {},
   "outputs": [],
   "source": [
    "sentence = \"The product is really good, but the delivery was slow and the packaging could be improved.\" "
   ]
  },
  {
   "cell_type": "code",
   "execution_count": 6,
   "id": "87d982a3-00ee-4ed4-8285-152d3037adca",
   "metadata": {},
   "outputs": [
    {
     "data": {
      "text/plain": [
       "'The product really good, delivery slow packaging could improved.'"
      ]
     },
     "execution_count": 6,
     "metadata": {},
     "output_type": "execute_result"
    }
   ],
   "source": [
    "sentence_no_stopwords = \" \".join([word for word in sentence.split() if word not in (eng_stopwords)])\n",
    "sentence_no_stopwords"
   ]
  },
  {
   "cell_type": "markdown",
   "id": "14920059-366d-4ac8-bb70-fd0b918cea14",
   "metadata": {},
   "source": [
    "## Exemple 2 :"
   ]
  },
  {
   "cell_type": "code",
   "execution_count": 16,
   "id": "2f9589df-7c73-4176-8aa2-88fa3c4de34e",
   "metadata": {},
   "outputs": [],
   "source": [
    "sentence_list = ['i absolutely love this new phone! the features are incredible!',\n",
    "                     \"i am so frustrated with the slow performance of my laptop. it's terrible!\",\n",
    "                     'the movie was okay, not great but not bad either.',\n",
    "                     'the service at the restaurant was amazing! i will definitely come back.',\n",
    "                     \"i can’t believe how poorly this software is designed. it's unusable.\",\n",
    "                     'i am really excited about the new game release! can’t wait to try it!',\n",
    "                     'i am thrilled with how well the project turned out. it’s beyond expectations!']"
   ]
  },
  {
   "cell_type": "markdown",
   "id": "d8afe4a3-bae5-4179-bdf2-7cb1ac7f49c3",
   "metadata": {},
   "source": [
    "#### Transform the list into a single string :"
   ]
  },
  {
   "cell_type": "code",
   "execution_count": 11,
   "id": "3cdfe8e3-3369-45f4-bc3b-235d1d8271c6",
   "metadata": {},
   "outputs": [
    {
     "data": {
      "text/plain": [
       "\"i absolutely love this new phone! the features are incredible! i am so frustrated with the slow performance of my laptop. it's terrible! the movie was okay, not great but not bad either. the service at the restaurant was amazing! i will definitely come back. i can’t believe how poorly this software is designed. it's unusable. i am really excited about the new game release! can’t wait to try it! i am thrilled with how well the project turned out. it’s beyond expectations!\""
      ]
     },
     "execution_count": 11,
     "metadata": {},
     "output_type": "execute_result"
    }
   ],
   "source": [
    "list_as_one_string = \" \".join(sentence_list)\n",
    "list_as_one_string"
   ]
  },
  {
   "cell_type": "code",
   "execution_count": 12,
   "id": "139f4b31-0066-4609-a97a-51f6075a1209",
   "metadata": {},
   "outputs": [
    {
     "data": {
      "text/plain": [
       "'absolutely love new phone! features incredible! frustrated slow performance laptop. terrible! movie okay, not great not bad either. service restaurant amazing! definitely come back. can’t believe poorly software designed. unusable. really excited new game release! can’t wait try it! thrilled well project turned out. it’s beyond expectations!'"
      ]
     },
     "execution_count": 12,
     "metadata": {},
     "output_type": "execute_result"
    }
   ],
   "source": [
    "list_as_one_string_cleaned = \" \".join([x for x in list_as_one_string.split() if x not in (eng_stopwords)])\n",
    "list_as_one_string_cleaned"
   ]
  },
  {
   "cell_type": "markdown",
   "id": "ecba2c4d-bac6-4b17-8d54-4677b7162d01",
   "metadata": {},
   "source": [
    "## Exemple 3 : "
   ]
  },
  {
   "cell_type": "code",
   "execution_count": 35,
   "id": "4d474e92-303e-4111-89c0-b62ab576967f",
   "metadata": {},
   "outputs": [],
   "source": [
    "import string \n",
    "import nltk \n",
    "from nltk.corpus import stopwords\n",
    "eng_stopwords = stopwords.words('english')"
   ]
  },
  {
   "cell_type": "code",
   "execution_count": 36,
   "id": "a1e80635-2f39-4ea4-8b0d-22088954475a",
   "metadata": {},
   "outputs": [],
   "source": [
    "\n",
    "def text_cleaning(text):\n",
    "    # Lowercase :\n",
    "    text_lower = [ x.lower() for x in text ]\n",
    "\n",
    "    # Remove punctuation :\n",
    "    text_punc_removed = [ char for char in text_lower if char not in string.punctuation]\n",
    "    text_punc_removed_join = \"\".join(text_punc_removed)\n",
    "\n",
    "    # Remove stopwords : \n",
    "    text_cleaned = \" \".join([x for x in text_punc_removed_join.split() if x not in (eng_stopwords)])\n",
    "    \n",
    "    return text_cleaned"
   ]
  },
  {
   "cell_type": "code",
   "execution_count": 37,
   "id": "4258d9fb-29cc-490b-aa50-72f7c43b8e42",
   "metadata": {},
   "outputs": [],
   "source": [
    "sentence = \"The product is REALLY good !!!!, but the delivery was slow and the #packaging could be improved.\" "
   ]
  },
  {
   "cell_type": "code",
   "execution_count": 38,
   "id": "443dec47-24b4-4c2a-bbdd-92fe375edb0b",
   "metadata": {},
   "outputs": [
    {
     "name": "stdout",
     "output_type": "stream",
     "text": [
      "product really good delivery slow packaging could improved\n"
     ]
    }
   ],
   "source": [
    "print(text_cleaning(sentence))"
   ]
  },
  {
   "cell_type": "code",
   "execution_count": 39,
   "id": "6034d5c2-84e1-47de-8980-eb7044d8632c",
   "metadata": {},
   "outputs": [
    {
     "name": "stdout",
     "output_type": "stream",
     "text": [
      "['amazing product love', 'weather nice today perfect walk', 'cannot believe beautiful sunset', 'fantastic event everyone enjoyed']\n"
     ]
    }
   ],
   "source": [
    "sentences = [\n",
    "    \"This is an amazing product, I love it!\",\n",
    "    \"The weather is nice today, perfect for a walk.\",\n",
    "    \"I cannot believe how beautiful the sunset is!\",\n",
    "    \"It was a fantastic event, everyone enjoyed it.\"\n",
    "]\n",
    "\n",
    "cleaned_sentences = [ text_cleaning(sentence) for sentence in sentences ]\n",
    "print(cleaned_sentences)"
   ]
  },
  {
   "cell_type": "code",
   "execution_count": null,
   "id": "28d2c1e6-1d16-4d1b-824a-3bdb6f909402",
   "metadata": {},
   "outputs": [],
   "source": []
  }
 ],
 "metadata": {
  "kernelspec": {
   "display_name": "Python 3 (ipykernel)",
   "language": "python",
   "name": "python3"
  },
  "language_info": {
   "codemirror_mode": {
    "name": "ipython",
    "version": 3
   },
   "file_extension": ".py",
   "mimetype": "text/x-python",
   "name": "python",
   "nbconvert_exporter": "python",
   "pygments_lexer": "ipython3",
   "version": "3.9.15"
  }
 },
 "nbformat": 4,
 "nbformat_minor": 5
}
